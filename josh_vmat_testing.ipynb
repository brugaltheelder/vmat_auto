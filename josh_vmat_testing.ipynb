{
 "cells": [
  {
   "cell_type": "code",
   "execution_count": 1,
   "metadata": {
    "collapsed": true
   },
   "outputs": [],
   "source": [
    "# imports\n",
    "%matplotlib inline\n",
    "import seaborn as sns\n",
    "from pyrt.data.data_trots import *\n",
    "from pyrt.optimization.vmat import *\n",
    "from pyrt.tools import print_structure_info\n",
    "from pyrt.research.run_functions import *\n"
   ]
  },
  {
   "cell_type": "code",
   "execution_count": 3,
   "metadata": {
    "collapsed": true
   },
   "outputs": [],
   "source": [
    "# Josh Inputs - Prostate\n",
    "# Find work directory\n",
    "# cwd = '/Users/troy/Dropbox/CAP Group/TROTS/Prostate_VMAT/'\n",
    "working_directory = 'outputs_josh/'\n",
    "cwd = '/Users/jtmargo/Desktop/Josh/Clemson University/Research/Treatment Plan/TROTS Data/Prostate_VMAT/'\n",
    "case_directory = None\n",
    "\n",
    "vmat_model_params = {\n",
    "    'target_weights':{'PTV':1000., 'default':500.},\n",
    "    'oar_weights':{'Rectum':10., 'Bladder':10., 'default':1.},\n",
    "    'max_intensity':1000.,\n",
    "    'min_intensity': 0.,\n",
    "    'aper_limit': 1.,\n",
    "    'max_distance_per_cp': 100\n",
    "}\n",
    "\n",
    "\n",
    "input_dict = {\n",
    "    'cwd': cwd,\n",
    "    'case_directory': case_directory,\n",
    "    'figure_directory':working_directory,\n",
    "    'filename': None,\n",
    "    'Rx': {'PTV': 79.56, 'PTV Vesicles': 72.2},\n",
    "    'model_params':vmat_model_params\n",
    "}\n",
    "\n"
   ]
  },
  {
   "cell_type": "code",
   "execution_count": null,
   "metadata": {
    "scrolled": true
   },
   "outputs": [],
   "source": [
    "#Run all cases\n",
    "case = 'Prostate_VMAT'\n",
    "run_all(case,input_dict)"
   ]
  },
  {
   "cell_type": "code",
   "execution_count": null,
   "metadata": {
    "collapsed": true
   },
   "outputs": [],
   "source": [
    "#Run individual case\n",
    "\n",
    "# Load patient information\n",
    "input_dict['filename'] = 'Prostate_VMAT_206.mat'\n",
    "input_dict['case_directory'] = input_dict['filename'][0:-4]+'/'\n",
    "run_case(input_dict)\n",
    "\n"
   ]
  },
  {
   "cell_type": "code",
   "execution_count": null,
   "metadata": {
    "collapsed": true
   },
   "outputs": [],
   "source": [
    "# # Josh Inputs - H&N\n",
    "# # Find work directory\n",
    "# # cwd = '/Users/troy/Dropbox/CAP Group/TROTS/Prostate_VMAT/'\n",
    "# working_directory = 'outputs_josh/'\n",
    "# cwd = '/Users/jtmargo/Desktop/Josh/Clemson University/Research/Treatment Plan/TROTS Data/Head-and-Neck/'\n",
    "\n",
    "\n",
    "# # Load patient information\n",
    "# filename = 'Prostate_VMAT_101.mat'\n",
    "\n",
    "# imrt_model_params = {\n",
    "#     'target_weights':{'PTV 0-46 Gy':1000., 'default':500.},\n",
    "#     'oar_weights':{'Rectum':10., 'Bladder':10., 'default':1.},\n",
    "#     'maxIntensity':1.,\n",
    "#     'minIntensity': 0.\n",
    "# }\n",
    "\n",
    "\n",
    "# input_dict = {\n",
    "#     'cwd': cwd,\n",
    "#     'figure_directory':working_directory,\n",
    "#     'filename': filename,\n",
    "#     'Rx': {'PTV 0-46 Gy': 47.15},\n",
    "#     'model_params':vmat_model_params\n",
    "# }"
   ]
  },
  {
   "cell_type": "code",
   "execution_count": null,
   "metadata": {
    "collapsed": true
   },
   "outputs": [],
   "source": [
    "model.m.write('output.lp')"
   ]
  },
  {
   "cell_type": "code",
   "execution_count": null,
   "metadata": {
    "collapsed": true
   },
   "outputs": [],
   "source": [
    "model.plot_DVH(run_tag='default',saveDVH=True, num_bins = 500)"
   ]
  },
  {
   "cell_type": "code",
   "execution_count": null,
   "metadata": {
    "collapsed": true
   },
   "outputs": [],
   "source": [
    "for cp in range(model.data.num_control_points):\n",
    "    for a in range(len(model.apertures_per_cp[cp])):\n",
    "        print model.aper_intensity_var[cp][a].x"
   ]
  },
  {
   "cell_type": "code",
   "execution_count": null,
   "metadata": {
    "collapsed": true
   },
   "outputs": [],
   "source": [
    "model.run_title  = 'test_optimized'\n",
    "model.optimize(display=5)"
   ]
  },
  {
   "cell_type": "code",
   "execution_count": null,
   "metadata": {
    "collapsed": true
   },
   "outputs": [],
   "source": [
    "model.plot_DVH(run_tag='test_optimized',saveDVH=True, num_bins = 500) "
   ]
  },
  {
   "cell_type": "code",
   "execution_count": null,
   "metadata": {
    "collapsed": true
   },
   "outputs": [],
   "source": [
    "def generate_network(self):\n",
    "    for cp in range(self.data.num_control_points-1):\n",
    "        for a in range(len(self.apertures_per_cp[cp])):\n",
    "            lin3 = grb.LinExpr()\n",
    "            lin3 += self.aper_binary_var[cp][a]\n",
    "\n",
    "\n",
    "            for i in range(len(self.apertures_per_cp[cp+1])):\n",
    "                if not is_connected(self.apertures_per_cp[cp][a],self.apertures_per_cp[cp+1][i]):\n",
    "                    lin3 += self.aper_binary_var[cp+1][i]\n",
    "            self.m.addConstr(lin3, grb.GRB.LESS_EQUAL, 1, name='Network_Connevity_{}_{}_{}'.format(cp, a, i))\n",
    "\n",
    "    self.m.update()"
   ]
  },
  {
   "cell_type": "code",
   "execution_count": null,
   "metadata": {
    "collapsed": true
   },
   "outputs": [],
   "source": [
    "#Part of control point object\n",
    "self.connected = [[] for a in range(len(self.apertures_per_cp[cp]))]\n",
    "\n",
    "self.is_connected()\n",
    "\n",
    "\n",
    "def is_connected(self, cp_number):\n",
    "#     for cp in range(self.data.num_control_points):\n",
    "        for a in range(len(self.apertures_per_cp[cp])):\n",
    "            for i in range(len(self.apertures_per_cp[cp+1]))\n",
    "                counter = 0\n",
    "                \n",
    "                for row in range(self.num_rows):\n",
    "                    if (abs(self.apertures_per_cp[cp][a].left_leaf_position[r] - self.apertures_per_cp[cp+1][i].left_leaf_position[r]) < self.max_distance) \n",
    "                        and abs(self.apertures_per_cp[cp][a].right_leaf_position[r] - self.apertures_per_cp[cp+1][i].right_leaf_position[r]) < self.max_distance):\n",
    "                        counter += 1\n",
    "                    else:\n",
    "                        break\n",
    "                    if counter == self.num_rows\n",
    "                        self.apertures_per_cp[cp][a].connected.append(i)"
   ]
  },
  {
   "cell_type": "code",
   "execution_count": 2,
   "metadata": {
    "collapsed": true
   },
   "outputs": [],
   "source": [
    "def is_connected(aperture1, aperture2, max_distance_per_cp):\n",
    "    assert(isinstace(aperture1,aperture))\n",
    "    assert(isinstace(aperture2,aperture)) \n",
    "    if not aperture1.num_rows == aperture2.num_rows:\n",
    "        print_in_box('NUMBER OF ROWS BETWEEN {} and {} DOES NOT MATCH'.format(aperture1.cp_number, aperture2.cp_number))\n",
    "    else:\n",
    "        total_rows = aperture1.num_rows\n",
    "    var = abs(aperture1.cp_number - aperture2.cp_number) * max_distance_per_cp\n",
    "    if all( [ abs( aperture1.left_leaf_position[r] - aperture2.left_leaf_position[r] ) <= var for r in range(total_rows) ]) and all( [ abs( aperture1.right_leaf_position[r] - aperture1.right_leaf_position[r] ) <= var for r in range(total_rows) ]) \n",
    "        return True\n",
    "    else:\n",
    "        return False"
   ]
  }
 ],
 "metadata": {
  "kernelspec": {
   "display_name": "Python 2",
   "language": "python",
   "name": "python2"
  },
  "language_info": {
   "codemirror_mode": {
    "name": "ipython",
    "version": 2
   },
   "file_extension": ".py",
   "mimetype": "text/x-python",
   "name": "python",
   "nbconvert_exporter": "python",
   "pygments_lexer": "ipython2",
   "version": "2.7.13"
  }
 },
 "nbformat": 4,
 "nbformat_minor": 2
}
