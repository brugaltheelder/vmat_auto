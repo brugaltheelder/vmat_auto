{
 "cells": [
  {
   "cell_type": "code",
   "execution_count": 1,
   "metadata": {},
   "outputs": [],
   "source": [
    "# imports\n",
    "%matplotlib inline\n",
    "import seaborn as sns\n",
    "from pyrt.data.data_trots import *\n",
    "from pyrt.optimization.vmat import *\n",
    "from pyrt.tools import print_structure_info\n"
   ]
  },
  {
   "cell_type": "code",
   "execution_count": 2,
   "metadata": {},
   "outputs": [],
   "source": [
    "# Troy Inputs - Prostate\n",
    "# Find work directory\n",
    "# cwd = '/Users/troy/Dropbox/CAP Group/TROTS/Prostate_VMAT/'\n",
    "working_directory = 'outputs_troy/'\n",
    "cwd = '/Users/jtmargo/Desktop/Josh/Clemson University/Research/Treatment Plan/TROTS Data/Prostate_VMAT/'\n",
    "\n",
    "\n",
    "# Load patient information\n",
    "filename = 'Prostate_VMAT_101.mat'\n",
    "\n",
    "vmat_model_params = {\n",
    "    'target_weights':{'PTV':1000., 'default':500.},\n",
    "    'oar_weights':{'Rectum':10., 'Bladder':10., 'default':1.},\n",
    "    'maxIntensity':1.,\n",
    "    'minIntensity': 0.\n",
    "}\n",
    "\n",
    "\n",
    "input_dict = {\n",
    "    'cwd': cwd,\n",
    "    'figure_directory':working_directory,\n",
    "    'filename': filename,\n",
    "    'Rx': {'PTV': 79.56, 'PTV Vesicles': 72.2},\n",
    "    'model_params':vmat_model_params\n",
    "}\n",
    "\n"
   ]
  },
  {
   "cell_type": "code",
   "execution_count": 3,
   "metadata": {
    "collapsed": true
   },
   "outputs": [],
   "source": [
    "# # Troy Inputs - H&N\n",
    "# # Find work directory\n",
    "# # cwd = '/Users/troy/Dropbox/CAP Group/TROTS/Prostate_VMAT/'\n",
    "# working_directory = 'outputs_troy/'\n",
    "# cwd = '/Users/jtmargo/Desktop/Josh/Clemson University/Research/Treatment Plan/TROTS Data/Head-and-Neck/'\n",
    "\n",
    "\n",
    "# # Load patient information\n",
    "# filename = 'Prostate_VMAT_101.mat'\n",
    "\n",
    "# imrt_model_params = {\n",
    "#     'target_weights':{'PTV 0-46 Gy':1000., 'default':500.},\n",
    "#     'oar_weights':{'Rectum':10., 'Bladder':10., 'default':1.},\n",
    "#     'maxIntensity':1.,\n",
    "#     'minIntensity': 0.\n",
    "# }\n",
    "\n",
    "\n",
    "# input_dict = {\n",
    "#     'cwd': cwd,\n",
    "#     'figure_directory':working_directory,\n",
    "#     'filename': filename,\n",
    "#     'Rx': {'PTV 0-46 Gy': 47.15},\n",
    "#     'model_params':vmat_model_params\n",
    "# }"
   ]
  },
  {
   "cell_type": "code",
   "execution_count": 4,
   "metadata": {},
   "outputs": [
    {
     "name": "stdout",
     "output_type": "stream",
     "text": [
      "---------------------\n",
      "|  Reading in data  |\n",
      "---------------------\n",
      "Building Structures\n",
      "importing PTV Dij as dense matrix, converting to sparse...\n",
      "importing PTV Shell 50 mm Dij as dense matrix, converting to sparse...\n",
      "importing External Ring 20 mm Dij as sparse matrix\n",
      "importing PTV Shell 5 mm Dij as dense matrix, converting to sparse...\n",
      "importing PTV Shell 15 mm Dij as dense matrix, converting to sparse...\n",
      "importing PTV Shell 25 mm Dij as dense matrix, converting to sparse...\n",
      "importing Rectum Dij as dense matrix, converting to sparse...\n",
      "importing Anus Dij as dense matrix, converting to sparse...\n",
      "importing Hip (L) Dij as dense matrix, converting to sparse...\n",
      "importing Hip (R) Dij as dense matrix, converting to sparse...\n",
      "importing Bladder Dij as dense matrix, converting to sparse...\n",
      "importing Patient Dij as dense matrix, converting to sparse...\n",
      "Building CP\n",
      "----------------------------\n",
      "|  Data reading completed  |\n",
      "----------------------------\n"
     ]
    }
   ],
   "source": [
    "model = vmat_mip(input_dict)"
   ]
  },
  {
   "cell_type": "code",
   "execution_count": null,
   "metadata": {},
   "outputs": [],
   "source": [
    "cp0 = model.data.control_points[0]\n",
    "assert(isinstance(cp0,control_point))\n",
    "for r in range(cp0.num_rows):\n",
    "    print cp0.field[cp0.min_row+r][cp0.left_leaf_position[r]:cp0.left_leaf_position[r]+cp0.num_beamlets_in_row[r]]"
   ]
  },
  {
   "cell_type": "code",
   "execution_count": 6,
   "metadata": {},
   "outputs": [],
   "source": [
    "model.m.write('output.lp')"
   ]
  },
  {
   "cell_type": "code",
   "execution_count": 7,
   "metadata": {},
   "outputs": [
    {
     "ename": "TypeError",
     "evalue": "calc_dose_from_variables() got an unexpected keyword argument 'x'",
     "output_type": "error",
     "traceback": [
      "\u001b[0;31m---------------------------------------------------------------------------\u001b[0m",
      "\u001b[0;31mTypeError\u001b[0m                                 Traceback (most recent call last)",
      "\u001b[0;32m<ipython-input-7-5ebabe42e46d>\u001b[0m in \u001b[0;36m<module>\u001b[0;34m()\u001b[0m\n\u001b[0;32m----> 1\u001b[0;31m \u001b[0mmodel\u001b[0m\u001b[0;34m.\u001b[0m\u001b[0mcalc_dose_from_variables\u001b[0m\u001b[0;34m(\u001b[0m\u001b[0mx\u001b[0m\u001b[0;34m=\u001b[0m\u001b[0mnp\u001b[0m\u001b[0;34m.\u001b[0m\u001b[0mones\u001b[0m\u001b[0;34m(\u001b[0m\u001b[0mmodel\u001b[0m\u001b[0;34m.\u001b[0m\u001b[0mdata\u001b[0m\u001b[0;34m.\u001b[0m\u001b[0mnum_beamlets\u001b[0m\u001b[0;34m)\u001b[0m\u001b[0;34m)\u001b[0m\u001b[0;34m\u001b[0m\u001b[0m\n\u001b[0m\u001b[1;32m      2\u001b[0m \u001b[0mmodel\u001b[0m\u001b[0;34m.\u001b[0m\u001b[0msave_current_dose\u001b[0m\u001b[0;34m(\u001b[0m\u001b[0mrun_tag\u001b[0m\u001b[0;34m=\u001b[0m\u001b[0;34m'initial_dose'\u001b[0m\u001b[0;34m)\u001b[0m\u001b[0;34m\u001b[0m\u001b[0m\n",
      "\u001b[0;31mTypeError\u001b[0m: calc_dose_from_variables() got an unexpected keyword argument 'x'"
     ]
    }
   ],
   "source": [
    "model.calc_dose_from_variables(x=np.ones(model.data.num_beamlets))\n",
    "model.save_current_dose(run_tag='initial_dose')"
   ]
  },
  {
   "cell_type": "code",
   "execution_count": null,
   "metadata": {
    "collapsed": true
   },
   "outputs": [],
   "source": [
    "model.plot_DVH(run_tag='initial_dose',saveDVH=True, num_bins = 500)"
   ]
  },
  {
   "cell_type": "code",
   "execution_count": null,
   "metadata": {
    "collapsed": true
   },
   "outputs": [],
   "source": [
    "model.run_title  = 'test_optimized'\n",
    "model.optimize(display=5)"
   ]
  },
  {
   "cell_type": "code",
   "execution_count": null,
   "metadata": {
    "collapsed": true
   },
   "outputs": [],
   "source": [
    "model.plot_DVH(run_tag='test_optimized',saveDVH=True, num_bins = 500)"
   ]
  }
 ],
 "metadata": {
  "kernelspec": {
   "display_name": "Python 2",
   "language": "python",
   "name": "python2"
  },
  "language_info": {
   "codemirror_mode": {
    "name": "ipython",
    "version": 2
   },
   "file_extension": ".py",
   "mimetype": "text/x-python",
   "name": "python",
   "nbconvert_exporter": "python",
   "pygments_lexer": "ipython2",
   "version": "2.7.13"
  }
 },
 "nbformat": 4,
 "nbformat_minor": 2
}
