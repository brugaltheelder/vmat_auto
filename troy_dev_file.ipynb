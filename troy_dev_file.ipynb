{
 "cells": [
  {
   "cell_type": "code",
   "execution_count": 1,
   "metadata": {
    "collapsed": true
   },
   "outputs": [],
   "source": [
    "# imports\n",
    "from pyrt.data import *"
   ]
  },
  {
   "cell_type": "code",
   "execution_count": 3,
   "metadata": {
    "collapsed": true
   },
   "outputs": [],
   "source": [
    "# Troy Inputs\n",
    "# Find work directory\n",
    "cwd = '/media/troy/DataDrive/Dropbox/CAP Group/TROTS/Prostate_VMAT/'\n",
    "\n",
    "# Load patient information\n",
    "filename = 'Prostate_VMAT_101.mat'\n",
    "\n",
    "input_dict = {\n",
    "    'cwd': cwd,\n",
    "    'filename': filename,\n",
    "    'Rx': {'PTV': 79.56, 'PTV Vesicles': 72.2},\n",
    "}"
   ]
  },
  {
   "cell_type": "code",
   "execution_count": 5,
   "metadata": {},
   "outputs": [
    {
     "data": {
      "text/plain": [
       "h5py._hl.files.File"
      ]
     },
     "execution_count": 5,
     "metadata": {},
     "output_type": "execute_result"
    }
   ],
   "source": [
    "data = patient_data(input_dict)\n",
    "\n"
   ]
  },
  {
   "cell_type": "code",
   "execution_count": null,
   "metadata": {
    "collapsed": true
   },
   "outputs": [],
   "source": [
    "\n",
    "c = f['patient/SampledVoxels']\n",
    "\n",
    "patient_structure_size = {}\n",
    "for i in range(c.size):\n",
    "    patient_structure_size[structure_names_real[i]] = f[c[i][0]].shape[0]\n",
    "# print patient_structure_size\n",
    "\n",
    "\n",
    "# get ref to data/matrix\n",
    "b = f['data/matrix']\n",
    "\n",
    "# read in names\n",
    "structure_names = []\n",
    "for i in range(b['Name'].size):\n",
    "    structure_names.append(''.join(chr(j) for j in f[b['Name'][i][0]][:]))\n",
    "# print structure_names\n",
    "print '-' * 40\n",
    "\n",
    "# read in A's\n",
    "A_mat = {}\n",
    "for i in range(b['A'].size):\n",
    "    if structure_names[i] not in structure_names_real:\n",
    "        continue\n",
    "    else:\n",
    "        print i,\n",
    "        # Find sparse matrices/structures:\n",
    "        if np.asarray(f[b['A'][i][0]]).shape == (3,):\n",
    "            print 'SPARSE'\n",
    "            print structure_names[i]\n",
    "            indices = np.asarray(f[b['A'][i][0]]['jc'])\n",
    "            indptr = np.asarray(f[b['A'][i][0]]['ir'])\n",
    "            data_values = np.asarray(f[b['A'][i][0]]['data'])\n",
    "            print 'now testing structure {}'.format(structure_names[i])\n",
    "            print 'this should have a shape of {} by {}'.format(patient_structure_size[structure_names[i]],\n",
    "                                                                indices.shape[0] - 1)\n",
    "            # csr_matrix((data, indices, indptr), [shape=(M, N)])\n",
    "            A_mat[structure_names[i]] = sps.csr_matrix((data_values, indptr, indices), shape=(\n",
    "            indices.shape[0] - 1, patient_structure_size[structure_names[i]]))\n",
    "            #           print A_mat[structure_names[i]].size, A_mat[structure_names[i]].shape\n",
    "            np.setdiff1d(np.arange(1, 11788), np.unique(indptr)).shape\n",
    "\n",
    "        else:\n",
    "            A_mat[structure_names[i]] = sps.csr_matrix(np.asarray(f[b['A'][i][0]]))\n",
    "\n",
    "print ''\n",
    "print '-' * 40"
   ]
  },
  {
   "cell_type": "code",
   "execution_count": 12,
   "metadata": {},
   "outputs": [
    {
     "name": "stdout",
     "output_type": "stream",
     "text": [
      "(1972, 4906)\n"
     ]
    }
   ],
   "source": [
    "b = data.f['data/matrix']\n",
    "a = b['A'][1]\n",
    "\n",
    "print np.asarray(data.f[a[0]]).shape"
   ]
  }
 ],
 "metadata": {
  "kernelspec": {
   "display_name": "Python 2",
   "language": "python",
   "name": "python2"
  },
  "language_info": {
   "codemirror_mode": {
    "name": "ipython",
    "version": 2
   },
   "file_extension": ".py",
   "mimetype": "text/x-python",
   "name": "python",
   "nbconvert_exporter": "python",
   "pygments_lexer": "ipython2",
   "version": "2.7.13"
  }
 },
 "nbformat": 4,
 "nbformat_minor": 2
}
