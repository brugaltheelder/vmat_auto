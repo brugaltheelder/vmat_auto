{
 "cells": [
  {
   "cell_type": "code",
   "execution_count": null,
   "metadata": {
    "collapsed": true
   },
   "outputs": [],
   "source": [
    "# imports\n",
    "from pyrt.data import *\n"
   ]
  },
  {
   "cell_type": "code",
   "execution_count": 2,
   "metadata": {
    "collapsed": true
   },
   "outputs": [],
   "source": [
    "# Troy Inputs\n",
    "# Find work directory\n",
    "cwd = '/media/troy/DataDrive/Dropbox/CAP Group/TROTS/Prostate_VMAT/'\n",
    "\n",
    "# Load patient information\n",
    "filename = 'Prostate_VMAT_101.mat'\n",
    "\n",
    "input_dict = {\n",
    "    'cwd': cwd,\n",
    "    'filename': filename,\n",
    "    'Rx': {'PTV': 79.56, 'PTV Vesicles': 72.2},\n",
    "}"
   ]
  },
  {
   "cell_type": "code",
   "execution_count": 3,
   "metadata": {},
   "outputs": [
    {
     "name": "stdout",
     "output_type": "stream",
     "text": [
      "importing PTV Dij as dense matrix, converting to sparse...\n",
      "importing PTV Shell 50 mm Dij as dense matrix, converting to sparse...\n",
      "importing External Ring 20 mm Dij as sparse matrix\n",
      "importing PTV Shell 5 mm Dij as dense matrix, converting to sparse...\n",
      "importing PTV Shell 15 mm Dij as dense matrix, converting to sparse...\n",
      "importing PTV Shell 25 mm Dij as dense matrix, converting to sparse...\n",
      "importing Rectum Dij as dense matrix, converting to sparse...\n",
      "importing Anus Dij as dense matrix, converting to sparse...\n",
      "importing Hip (L) Dij as dense matrix, converting to sparse...\n",
      "importing Hip (R) Dij as dense matrix, converting to sparse...\n",
      "importing Bladder Dij as dense matrix, converting to sparse...\n",
      "importing Patient Dij as dense matrix, converting to sparse...\n"
     ]
    }
   ],
   "source": [
    "data = patient_data(input_dict)\n"
   ]
  },
  {
   "cell_type": "code",
   "execution_count": null,
   "metadata": {
    "collapsed": true
   },
   "outputs": [],
   "source": [
    "for s in data.structures:\n",
    "    print s.name,s.rx, s.num_vox, s.num_beamlets, s.is_target, s.Dij.shape\n",
    "    print '-'*20"
   ]
  }
 ],
 "metadata": {
  "kernelspec": {
   "display_name": "Python 2",
   "language": "python",
   "name": "python2"
  },
  "language_info": {
   "codemirror_mode": {
    "name": "ipython",
    "version": 2
   },
   "file_extension": ".py",
   "mimetype": "text/x-python",
   "name": "python",
   "nbconvert_exporter": "python",
   "pygments_lexer": "ipython2",
   "version": "2.7.13"
  }
 },
 "nbformat": 4,
 "nbformat_minor": 2
}
