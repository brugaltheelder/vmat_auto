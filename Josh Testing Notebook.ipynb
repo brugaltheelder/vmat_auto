{
 "cells": [
  {
   "cell_type": "code",
   "execution_count": 1,
   "metadata": {
    "collapsed": true
   },
   "outputs": [],
   "source": [
    "# imports\n",
    "%matplotlib inline\n",
    "\n",
    "\n",
    "import seaborn as sns\n",
    "import matplotlib.pyplot as plt\n",
    "from pyrt.data.data_trots import *\n",
    "from pyrt.optimization.vmat import *\n",
    "from pyrt.tools import *"
   ]
  },
  {
   "cell_type": "code",
   "execution_count": 2,
   "metadata": {
    "collapsed": true
   },
   "outputs": [],
   "source": [
    "# def print_structure_info(data):\n",
    "#     for s in data.structures:\n",
    "#         print s.name,s.rx, s.num_vox, s.num_beamlets, s.is_target, s.Dij.shape\n",
    "#         print '-'*20"
   ]
  },
  {
   "cell_type": "code",
   "execution_count": 3,
   "metadata": {
    "collapsed": true
   },
   "outputs": [],
   "source": [
    "# Josh Inputs\n",
    "# Find work directory\n",
    "working_directory = 'outputs_josh/'\n",
    "path1 = '/Users/jtmargo/Desktop/Josh/Clemson University/Research/Treatment Plan/TROTS Data/Prostate_VMAT/'\n",
    "path2 = '/Users/jtmargo/Desktop/Josh/Clemson University/Research/Treatment Plan/TROTS Data/Head-and-Neck/'\n",
    "\n",
    "\n",
    "#Set cwd\n",
    "cwd = path2\n",
    "\n",
    "# Load patient information\n",
    "\n",
    "\n",
    "\n",
    "back_proj_list_of_dicts = [\n",
    "   {'PTV':30.,'Bladder':15.,'default':0., 'threshold':0.},\n",
    "    {'PTV':30.,'Rectum':15.,'default':0., 'threshold':0.},\n",
    "#     {'PTV':5,'default':1, 'threshold':0.},\n",
    "    {'PTV':100.,'default':1., 'threshold':0.},\n",
    "    {'PTV':1.,'default':0., 'threshold':0.}\n",
    "]\n",
    "\n",
    "vmat_model_params = {\n",
    "    'target_weights':{'PTV':1000., 'default':500.},\n",
    "    'oar_weights':{'Rectum':10., 'Bladder':10., 'default':1.},\n",
    "    'max_intensity':1000.,\n",
    "    'min_intensity': 1.,\n",
    "    'aper_limit': 1.,\n",
    "    'max_distance_per_cp': 10000,\n",
    "    'cp_redundancy': 1,\n",
    "    'back_projection_dicts':back_proj_list_of_dicts\n",
    "}\n",
    "\n",
    "\n",
    "input_dict = {\n",
    "    'cwd': cwd,\n",
    "    'figure_directory':working_directory,\n",
    "    'aper_types_list': ['back_proj'],\n",
    "    'filename': None,\n",
    "    'Rx': {'PTV 0-46 Gy': 47.15},\n",
    "#     'Rx': {'PTV': 79.56, 'PTV Vesicles': 72.2},\n",
    "    'model_params':vmat_model_params\n",
    "}\n"
   ]
  },
  {
   "cell_type": "code",
   "execution_count": 4,
   "metadata": {
    "collapsed": true
   },
   "outputs": [],
   "source": [
    "#Run TROTS data file \n",
    "input_dict['filename'] = 'Head-and-Neck_01.mat'\n",
    "input_dict['case_directory'] = input_dict['filename'][0:-4]+'/'"
   ]
  },
  {
   "cell_type": "code",
   "execution_count": 5,
   "metadata": {
    "collapsed": true
   },
   "outputs": [],
   "source": [
    "f = h5py.File(input_dict['cwd'] + input_dict['filename'], 'r')\n",
    "b = f['patient/Beams/BeamConfig']\n",
    "min_row = np.asarray(f[b['Field'][0][0]]).shape[1] # [np.asarray(data.f[b['Field'][0][0]]).shape[1]]*data.num_control_points\n",
    "max_row = 0 # [0]*data.num_control_points"
   ]
  },
  {
   "cell_type": "code",
   "execution_count": null,
   "metadata": {
    "collapsed": true
   },
   "outputs": [],
   "source": [
    "#Run large data file\n",
    "# input_dict['filename'] = 'HN01_FullVMAT.mat'\n",
    "\n",
    "#Run TROTS data file \n",
    "input_dict['filename'] = 'Head-and-Neck_01.mat'\n",
    "input_dict['case_directory'] = input_dict['filename'][0:-4]+'/'\n",
    "model = vmat_mip(input_dict)"
   ]
  },
  {
   "cell_type": "code",
   "execution_count": 16,
   "metadata": {},
   "outputs": [
    {
     "name": "stdout",
     "output_type": "stream",
     "text": [
      "[[0 0 0 ..., 0 0 0]\n",
      " [0 0 0 ..., 0 0 0]\n",
      " [0 0 0 ..., 0 0 0]\n",
      " ..., \n",
      " [0 0 0 ..., 0 0 0]\n",
      " [0 0 0 ..., 0 0 0]\n",
      " [0 0 0 ..., 0 0 0]]\n"
     ]
    }
   ],
   "source": [
    "field = np.asarray(f[b['Field'][13][0]])\n",
    "print field"
   ]
  },
  {
   "cell_type": "code",
   "execution_count": 17,
   "metadata": {},
   "outputs": [
    {
     "name": "stdout",
     "output_type": "stream",
     "text": [
      "[8]\n",
      "8\n"
     ]
    },
    {
     "data": {
      "text/plain": [
       "467.0"
      ]
     },
     "execution_count": 17,
     "metadata": {},
     "output_type": "execute_result"
    }
   ],
   "source": [
    "min_cp = int(np.where(field == 1)[0])\n",
    "print np.where(field == 1)[0]\n",
    "print min_cp\n",
    "np.asarray(f['patient/Beams/ElementIndex']).flatten()[12]"
   ]
  },
  {
   "cell_type": "code",
   "execution_count": null,
   "metadata": {
    "collapsed": true
   },
   "outputs": [],
   "source": []
  },
  {
   "cell_type": "code",
   "execution_count": null,
   "metadata": {
    "collapsed": true
   },
   "outputs": [],
   "source": [
    "model.optimize(run_tag=input_dict['filename'][0:-4])"
   ]
  },
  {
   "cell_type": "code",
   "execution_count": null,
   "metadata": {
    "collapsed": true
   },
   "outputs": [],
   "source": [
    "print data.f['patient/Beams'].keys()"
   ]
  },
  {
   "cell_type": "code",
   "execution_count": null,
   "metadata": {
    "collapsed": true,
    "scrolled": false
   },
   "outputs": [],
   "source": [
    "f = data.f\n",
    "b = f['patient/Beams/BeamConfig']\n",
    "field = np.asarray(f[b['Field'][0][0]])\n",
    "print field[20][40]"
   ]
  },
  {
   "cell_type": "code",
   "execution_count": null,
   "metadata": {
    "collapsed": true
   },
   "outputs": [],
   "source": [
    "# Draw a heatmap with the numeric values in each cell\n",
    "for i in range(b['Field'].size):\n",
    "#     print np.asarray(f[b['Field'][i][0]]).shape\n",
    "    plt.figure()\n",
    "    sns.heatmap(np.asarray(f[b['Field'][i][0]])[15:24,25:50], annot=True, linewidths=.5)"
   ]
  },
  {
   "cell_type": "code",
   "execution_count": null,
   "metadata": {
    "collapsed": true
   },
   "outputs": [],
   "source": [
    "np.asarray(f[b['Field'][1][0]]).shape[0]"
   ]
  },
  {
   "cell_type": "code",
   "execution_count": null,
   "metadata": {
    "collapsed": true
   },
   "outputs": [],
   "source": [
    "field = np.asarray(f[b['Field'][1][0]])\n",
    "print field\n",
    "print np.where(field==1)\n",
    "print int(np.where(field==1)[0])\n",
    "print field[17][37]\n",
    "\n",
    "print np.asarray(data.f['patient/Beams/ElementIndex'][0][0])"
   ]
  },
  {
   "cell_type": "code",
   "execution_count": null,
   "metadata": {
    "collapsed": true
   },
   "outputs": [],
   "source": [
    "#Find min and max row positions of field for all control points\n",
    "min_row = np.asarray(f[b['Field'][0][0]]).shape[1]\n",
    "max_row = 0\n",
    "for cp in range(data.num_control_points):\n",
    "    field = np.asarray(f[b['Field'][cp][0]])\n",
    "    min_cp = int(np.where(field==1)[0])\n",
    "    max_cp = int(np.where(field==np.asarray(data.f['patient/Beams/ElementIndex'][0][cp]))[0])\n",
    "    if min_cp < min_row:\n",
    "        min_row = min_cp\n",
    "    if max_cp > max_row:\n",
    "        max_row = max_cp\n",
    "        \n",
    "    #return min_row, max_row+1\n",
    "max_row += 1      \n",
    "print 'Min row = {}'.format(min_row)\n",
    "print 'Max row = {}'.format(max_row)"
   ]
  },
  {
   "cell_type": "code",
   "execution_count": null,
   "metadata": {
    "collapsed": true
   },
   "outputs": [],
   "source": [
    "#Find leaf positions for each control point field\n",
    "cp = 0\n",
    "field = np.asarray(f[b['Field'][cp][0]])\n",
    "left_leaf = [int(np.where(field==1)[0])]\n",
    "left_leaf_index = [1]\n",
    "print int(np.where(field==1)[1])\n",
    "\n",
    "print np.where(field[16][:]>0)[0][0]\n",
    "\n",
    "# print left_leaf\n",
    "# print left_leaf_index\n",
    "\n",
    "# print field[16][:]\n",
    "# print np.argmax(field[16][:])\n",
    "\n",
    "# print int(np.where(field==1)[1])\n",
    "# print field[16][37]\n",
    "# print int(np.where(field==np.argmax(field[16][:]))[1])\n",
    "# print np.argmax(field[16][:])\n",
    "# print field[16][43]\n",
    "\n",
    "# print int(np.where(field==np.argmax(field[16][:]))[1]) - int(np.where(field==1)[0])\n",
    "\n",
    "num_beamlets_in_row = [int(np.argmax(field[16][:])) - int(np.where(field==1)[1])+1]\n",
    "print num_beamlets_in_row \n",
    "\n",
    "# for row in range(min,max):\n",
    "#     left_leaf.append(int(np.where(field==1)[1]))\n",
    "#     left_leaf_index.append(int(np.where(field==1)[1]))"
   ]
  },
  {
   "cell_type": "code",
   "execution_count": null,
   "metadata": {
    "collapsed": true
   },
   "outputs": [],
   "source": [
    "cp = 0\n",
    "field = np.asarray(f[b['Field'][cp][0]])\n",
    "left_leaf = []\n",
    "left_leaf_index = []\n",
    "num_beamlets_in_row = []\n",
    "row_array = range(min_row,max_row)\n",
    "# row = 16\n",
    "for row in row_array:\n",
    "    left_leaf.append(int(np.where(field[row][:]>0)[0][0]))\n",
    "    left_leaf_index.append(field[row][np.where(field[row][:]>0)[0][0]])\n",
    "    num_beamlets_in_row.append(int(np.argmax(field[row][:])) - int(np.where(field[row][:]>0)[0][0])+1)\n",
    "    \n",
    "    \n",
    "    \n",
    "print left_leaf\n",
    "print left_leaf_index\n",
    "print np.array(num_beamlets_in_row).sum()\n",
    "\n",
    "for r in range(len(left_leaf)):\n",
    "    print field[row_array[r]][left_leaf[r]:left_leaf[r]+num_beamlets_in_row[r]]"
   ]
  },
  {
   "cell_type": "code",
   "execution_count": null,
   "metadata": {
    "collapsed": true
   },
   "outputs": [],
   "source": []
  },
  {
   "cell_type": "code",
   "execution_count": null,
   "metadata": {
    "collapsed": true,
    "scrolled": false
   },
   "outputs": [],
   "source": [
    "cp = 0\n",
    "field = np.asarray(data.f[b['Field'][cp][0]])\n",
    "num_beamlets = np.asarray(data.f['patient/Beams/ElementIndex'][0][cp])\n",
    "test = control_point(cp, field, 16, 23, 0, num_beamlets)"
   ]
  },
  {
   "cell_type": "code",
   "execution_count": null,
   "metadata": {
    "collapsed": true
   },
   "outputs": [],
   "source": [
    "#Read and write to binary\n"
   ]
  }
 ],
 "metadata": {
  "kernelspec": {
   "display_name": "Python 2",
   "language": "python",
   "name": "python2"
  },
  "language_info": {
   "codemirror_mode": {
    "name": "ipython",
    "version": 2
   },
   "file_extension": ".py",
   "mimetype": "text/x-python",
   "name": "python",
   "nbconvert_exporter": "python",
   "pygments_lexer": "ipython2",
   "version": "2.7.13"
  }
 },
 "nbformat": 4,
 "nbformat_minor": 1
}
