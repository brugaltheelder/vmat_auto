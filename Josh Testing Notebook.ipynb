{
 "cells": [
  {
   "cell_type": "code",
   "execution_count": 1,
   "metadata": {
    "collapsed": true
   },
   "outputs": [],
   "source": [
    "# imports\n",
    "%matplotlib inline\n",
    "\n",
    "\n",
    "import seaborn as sns\n",
    "import matplotlib.pyplot as plt\n",
    "from pyrt.data.data_trots import *\n",
    "from pyrt.optimization.vmat import *\n",
    "from pyrt.tools import *"
   ]
  },
  {
   "cell_type": "code",
   "execution_count": null,
   "metadata": {
    "collapsed": true
   },
   "outputs": [],
   "source": [
    "def print_structure_info(data):\n",
    "    for s in data.structures:\n",
    "        print s.name,s.rx, s.num_vox, s.num_beamlets, s.is_target, s.Dij.shape\n",
    "        print '-'*20"
   ]
  },
  {
   "cell_type": "code",
   "execution_count": 2,
   "metadata": {},
   "outputs": [],
   "source": [
    "# Josh Inputs\n",
    "# Find work directory\n",
    "working_directory = 'outputs_josh/'\n",
    "path1 = '/Users/jtmargo/Desktop/Josh/Clemson University/Research/Treatment Plan/TROTS Data/Prostate_VMAT/'\n",
    "path2 = '/Users/jtmargo/Desktop/Josh/Clemson University/Research/Treatment Plan/TROTS Data/Head-and-Neck/'\n",
    "\n",
    "\n",
    "#Set cwd\n",
    "cwd = path1\n",
    "\n",
    "# Load patient information\n",
    "\n",
    "\n",
    "\n",
    "back_proj_list_of_dicts = [\n",
    "   {'PTV':30.,'Bladder':15.,'default':0., 'threshold':0.},\n",
    "    {'PTV':30.,'Rectum':15.,'default':0., 'threshold':0.},\n",
    "#     {'PTV':5,'default':1, 'threshold':0.},\n",
    "    {'PTV':100.,'default':1., 'threshold':0.},\n",
    "    {'PTV':1.,'default':0., 'threshold':0.}\n",
    "]\n",
    "\n",
    "vmat_model_params = {\n",
    "    'target_weights':{'PTV':1000., 'default':500.},\n",
    "    'oar_weights':{'Rectum':10., 'Bladder':10., 'default':1.},\n",
    "    'max_intensity':1000.,\n",
    "    'min_intensity': 1.,\n",
    "    'aper_limit': 1.,\n",
    "    'max_distance_per_cp': 10000,\n",
    "    'cp_redundancy': 1,\n",
    "    'back_projection_dicts':back_proj_list_of_dicts\n",
    "}\n",
    "\n",
    "\n",
    "input_dict = {\n",
    "    'cwd': cwd,\n",
    "    'figure_directory':working_directory,\n",
    "    'aper_types_list': ['back_proj'],\n",
    "    'filename': None,\n",
    "#     'Rx': {'PTV 0-46 Gy': 47.15},\n",
    "    'Rx': {'PTV': 79.56, 'PTV Vesicles': 72.2},\n",
    "    'model_params':vmat_model_params\n",
    "}\n"
   ]
  },
  {
   "cell_type": "code",
   "execution_count": 4,
   "metadata": {},
   "outputs": [
    {
     "name": "stdout",
     "output_type": "stream",
     "text": [
      "---------------------\n",
      "|  Reading in data  |\n",
      "---------------------\n",
      "Building Structures\n",
      "importing PTV Dij as dense matrix, converting to sparse...\n",
      "importing PTV Shell 50 mm Dij as dense matrix, converting to sparse...\n",
      "importing External Ring 20 mm Dij as sparse matrix\n",
      "importing PTV Shell 5 mm Dij as dense matrix, converting to sparse...\n",
      "importing PTV Shell 15 mm Dij as dense matrix, converting to sparse...\n",
      "importing PTV Shell 25 mm Dij as dense matrix, converting to sparse...\n",
      "importing Rectum Dij as dense matrix, converting to sparse...\n",
      "importing Anus Dij as dense matrix, converting to sparse...\n",
      "importing Hip (L) Dij as dense matrix, converting to sparse...\n",
      "importing Hip (R) Dij as dense matrix, converting to sparse...\n",
      "importing Bladder Dij as dense matrix, converting to sparse...\n",
      "importing Patient Dij as dense matrix, converting to sparse...\n",
      "Building CP\n",
      "----------------------------\n",
      "|  Data reading completed  |\n",
      "----------------------------\n",
      "---------------------------\n",
      "|  Building Gurobi Model  |\n",
      "---------------------------\n",
      "Initializing dose and aperture variables\n",
      "Initializing objective variables\n",
      "Building aperture network constraint\n",
      "Creating constraints\n",
      "Building dose constraint for PTV\n",
      "Building dose constraint for PTV Shell 50 mm\n",
      "Building dose constraint for External Ring 20 mm\n",
      "Building dose constraint for PTV Shell 5 mm\n",
      "Building dose constraint for PTV Shell 15 mm\n",
      "Building dose constraint for PTV Shell 25 mm\n",
      "Building dose constraint for Rectum\n",
      "Building dose constraint for Anus\n",
      "Building dose constraint for Hip (L)\n",
      "Building dose constraint for Hip (R)\n",
      "Building dose constraint for Bladder\n",
      "Building dose constraint for Patient\n",
      "Creating objective function\n",
      "------------------------------\n",
      "|  Gurobi Model Constructed  |\n",
      "------------------------------\n"
     ]
    }
   ],
   "source": [
    "input_dict['filename'] = 'Prostate_VMAT_101.mat'\n",
    "input_dict['case_directory'] = input_dict['filename'][0:-4]+'/'\n",
    "model = vmat_mip(input_dict)"
   ]
  },
  {
   "cell_type": "code",
   "execution_count": 5,
   "metadata": {},
   "outputs": [
    {
     "name": "stdout",
     "output_type": "stream",
     "text": [
      "Optimize a model with 237138 rows, 154806 columns and 1645647 nonzeros\n",
      "Variable types: 154714 continuous, 92 integer (92 binary)\n",
      "Coefficient statistics:\n",
      "  Matrix range     [8e-09, 1e+03]\n",
      "  Objective range  [1e+00, 1e+03]\n",
      "  Bounds range     [1e+00, 1e+00]\n",
      "  RHS range        [1e+00, 8e+01]\n",
      "Found heuristic solution: objective 3.9064e+08\n",
      "Presolve removed 222377 rows and 144955 columns\n",
      "Presolve time: 3.05s\n",
      "Presolved: 14761 rows, 9851 columns, 137212 nonzeros\n",
      "Variable types: 9828 continuous, 23 integer (23 binary)\n",
      "\n",
      "Root simplex log...\n",
      "\n",
      "Iteration    Objective       Primal Inf.    Dual Inf.      Time\n",
      "    2278    1.0710531e+07   1.154189e+04   0.000000e+00      5s\n",
      "    7826    1.5885117e+07   5.422457e+02   0.000000e+00     10s\n",
      "    9939    1.6176033e+07   0.000000e+00   0.000000e+00     11s\n",
      "\n",
      "Root relaxation: objective 1.617603e+07, 9939 iterations, 8.16 seconds\n",
      "\n",
      "    Nodes    |    Current Node    |     Objective Bounds      |     Work\n",
      " Expl Unexpl |  Obj  Depth IntInf | Incumbent    BestBd   Gap | It/Node Time\n",
      "\n",
      "*    0     0               0    1.617603e+07 1.6176e+07  0.00%     -   11s\n",
      "\n",
      "Explored 0 nodes (9939 simplex iterations) in 11.43 seconds\n",
      "Thread count was 4 (of 4 available processors)\n",
      "\n",
      "Solution count 2: 1.6176e+07 3.9064e+08 \n",
      "Pool objective bound 1.6176e+07\n",
      "\n",
      "Optimal solution found (tolerance 1.00e-04)\n",
      "Best objective 1.617603314261e+07, best bound 1.617603314261e+07, gap 0.0000%\n",
      "vmat model solved in 11.4511649609 seconds\n"
     ]
    }
   ],
   "source": [
    "model.optimize(run_tag=input_dict['filename'][0:-4])"
   ]
  },
  {
   "cell_type": "code",
   "execution_count": null,
   "metadata": {},
   "outputs": [],
   "source": [
    "print data.f['patient/Beams'].keys()"
   ]
  },
  {
   "cell_type": "code",
   "execution_count": null,
   "metadata": {
    "scrolled": false
   },
   "outputs": [],
   "source": [
    "f = data.f\n",
    "b = f['patient/Beams/BeamConfig']\n",
    "field = np.asarray(f[b['Field'][0][0]])\n",
    "print field[20][40]"
   ]
  },
  {
   "cell_type": "code",
   "execution_count": null,
   "metadata": {},
   "outputs": [],
   "source": [
    "# Draw a heatmap with the numeric values in each cell\n",
    "for i in range(b['Field'].size):\n",
    "#     print np.asarray(f[b['Field'][i][0]]).shape\n",
    "    plt.figure()\n",
    "    sns.heatmap(np.asarray(f[b['Field'][i][0]])[15:24,25:50], annot=True, linewidths=.5)"
   ]
  },
  {
   "cell_type": "code",
   "execution_count": null,
   "metadata": {
    "collapsed": true
   },
   "outputs": [],
   "source": [
    "np.asarray(f[b['Field'][1][0]]).shape[0]"
   ]
  },
  {
   "cell_type": "code",
   "execution_count": null,
   "metadata": {
    "collapsed": true
   },
   "outputs": [],
   "source": [
    "field = np.asarray(f[b['Field'][1][0]])\n",
    "print field\n",
    "print np.where(field==1)\n",
    "print int(np.where(field==1)[0])\n",
    "print field[17][37]\n",
    "\n",
    "print np.asarray(data.f['patient/Beams/ElementIndex'][0][0])"
   ]
  },
  {
   "cell_type": "code",
   "execution_count": null,
   "metadata": {
    "collapsed": true
   },
   "outputs": [],
   "source": [
    "#Find min and max row positions of field for all control points\n",
    "min_row = np.asarray(f[b['Field'][0][0]]).shape[1]\n",
    "max_row = 0\n",
    "for cp in range(data.num_control_points):\n",
    "    field = np.asarray(f[b['Field'][cp][0]])\n",
    "    min_cp = int(np.where(field==1)[0])\n",
    "    max_cp = int(np.where(field==np.asarray(data.f['patient/Beams/ElementIndex'][0][cp]))[0])\n",
    "    if min_cp < min_row:\n",
    "        min_row = min_cp\n",
    "    if max_cp > max_row:\n",
    "        max_row = max_cp\n",
    "        \n",
    "    #return min_row, max_row+1\n",
    "max_row += 1      \n",
    "print 'Min row = {}'.format(min_row)\n",
    "print 'Max row = {}'.format(max_row)"
   ]
  },
  {
   "cell_type": "code",
   "execution_count": null,
   "metadata": {
    "collapsed": true
   },
   "outputs": [],
   "source": [
    "#Find leaf positions for each control point field\n",
    "cp = 0\n",
    "field = np.asarray(f[b['Field'][cp][0]])\n",
    "left_leaf = [int(np.where(field==1)[0])]\n",
    "left_leaf_index = [1]\n",
    "print int(np.where(field==1)[1])\n",
    "\n",
    "print np.where(field[16][:]>0)[0][0]\n",
    "\n",
    "# print left_leaf\n",
    "# print left_leaf_index\n",
    "\n",
    "# print field[16][:]\n",
    "# print np.argmax(field[16][:])\n",
    "\n",
    "# print int(np.where(field==1)[1])\n",
    "# print field[16][37]\n",
    "# print int(np.where(field==np.argmax(field[16][:]))[1])\n",
    "# print np.argmax(field[16][:])\n",
    "# print field[16][43]\n",
    "\n",
    "# print int(np.where(field==np.argmax(field[16][:]))[1]) - int(np.where(field==1)[0])\n",
    "\n",
    "num_beamlets_in_row = [int(np.argmax(field[16][:])) - int(np.where(field==1)[1])+1]\n",
    "print num_beamlets_in_row \n",
    "\n",
    "# for row in range(min,max):\n",
    "#     left_leaf.append(int(np.where(field==1)[1]))\n",
    "#     left_leaf_index.append(int(np.where(field==1)[1]))"
   ]
  },
  {
   "cell_type": "code",
   "execution_count": null,
   "metadata": {
    "collapsed": true
   },
   "outputs": [],
   "source": [
    "cp = 0\n",
    "field = np.asarray(f[b['Field'][cp][0]])\n",
    "left_leaf = []\n",
    "left_leaf_index = []\n",
    "num_beamlets_in_row = []\n",
    "row_array = range(min_row,max_row)\n",
    "# row = 16\n",
    "for row in row_array:\n",
    "    left_leaf.append(int(np.where(field[row][:]>0)[0][0]))\n",
    "    left_leaf_index.append(field[row][np.where(field[row][:]>0)[0][0]])\n",
    "    num_beamlets_in_row.append(int(np.argmax(field[row][:])) - int(np.where(field[row][:]>0)[0][0])+1)\n",
    "    \n",
    "    \n",
    "    \n",
    "print left_leaf\n",
    "print left_leaf_index\n",
    "print np.array(num_beamlets_in_row).sum()\n",
    "\n",
    "for r in range(len(left_leaf)):\n",
    "    print field[row_array[r]][left_leaf[r]:left_leaf[r]+num_beamlets_in_row[r]]"
   ]
  },
  {
   "cell_type": "code",
   "execution_count": null,
   "metadata": {
    "collapsed": true
   },
   "outputs": [],
   "source": []
  },
  {
   "cell_type": "code",
   "execution_count": null,
   "metadata": {
    "scrolled": false
   },
   "outputs": [],
   "source": [
    "cp = 0\n",
    "field = np.asarray(data.f[b['Field'][cp][0]])\n",
    "num_beamlets = np.asarray(data.f['patient/Beams/ElementIndex'][0][cp])\n",
    "test = control_point(cp, field, 16, 23, 0, num_beamlets)"
   ]
  },
  {
   "cell_type": "code",
   "execution_count": null,
   "metadata": {
    "collapsed": true
   },
   "outputs": [],
   "source": []
  }
 ],
 "metadata": {
  "kernelspec": {
   "display_name": "Python 2",
   "language": "python",
   "name": "python2"
  },
  "language_info": {
   "codemirror_mode": {
    "name": "ipython",
    "version": 2
   },
   "file_extension": ".py",
   "mimetype": "text/x-python",
   "name": "python",
   "nbconvert_exporter": "python",
   "pygments_lexer": "ipython2",
   "version": "2.7.13"
  }
 },
 "nbformat": 4,
 "nbformat_minor": 1
}
