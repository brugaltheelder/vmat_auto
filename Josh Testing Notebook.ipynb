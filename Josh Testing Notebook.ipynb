{
 "cells": [
  {
   "cell_type": "code",
   "execution_count": 1,
   "metadata": {},
   "outputs": [],
   "source": [
    "# imports\n",
    "%matplotlib inline\n",
    "import seaborn as sns\n",
    "from pyrt.data.data_trots import *\n",
    "from pyrt.optimization import *\n",
    "from pyrt.tools import print_structure_info"
   ]
  },
  {
   "cell_type": "code",
   "execution_count": 2,
   "metadata": {
    "collapsed": true
   },
   "outputs": [],
   "source": [
    "def print_structure_info(data):\n",
    "    for s in data.structures:\n",
    "        print s.name,s.rx, s.num_vox, s.num_beamlets, s.is_target, s.Dij.shape\n",
    "        print '-'*20"
   ]
  },
  {
   "cell_type": "code",
   "execution_count": 3,
   "metadata": {
    "collapsed": true
   },
   "outputs": [],
   "source": [
    "# Josh Inputs\n",
    "# Find work directory\n",
    "path1 = '/Users/jtmargo/Desktop/Josh/Clemson University/Research/Treatment Plan/TROTS Data/Prostate_VMAT/'\n",
    "path2 = '/Users/jtmargo/Desktop/Josh/Clemson University/Research/Treatment Plan/TROTS Data/Head-and-Neck/'\n",
    "\n",
    "\n",
    "#Set cwd\n",
    "cwd = path1\n",
    "\n",
    "# Load patient information\n",
    "\n",
    "if cwd == path1:\n",
    "    filename = 'Prostate_VMAT_101.mat'\n",
    "    input_dict = {\n",
    "        'cwd': cwd,\n",
    "        'filename': filename,\n",
    "        'Rx': {'PTV': 79.56, 'PTV Vesicles': 72.2},\n",
    "    }\n",
    "\n",
    "if cwd == path2:\n",
    "    filename = 'Head-and-Neck_01.mat'\n",
    "    input_dict = {\n",
    "        'cwd': cwd,\n",
    "        'filename': filename,\n",
    "        'Rx': {'PTV 0-46 Gy': 47.15},\n",
    "    }"
   ]
  },
  {
   "cell_type": "code",
   "execution_count": 4,
   "metadata": {},
   "outputs": [
    {
     "name": "stdout",
     "output_type": "stream",
     "text": [
      "[ 85.  88.  89.  88.  87.  83.  79.  83.  85.  88.  88.  87.  89.  90.  88.\n",
      "  85.  83.  80.  81.  86.  88.  86.  86.]\n",
      "[    0.    85.   173.   262.   350.   437.   520.   599.   682.   767.\n",
      "   855.   943.  1030.  1119.  1209.  1297.  1382.  1465.  1545.  1626.\n",
      "  1712.  1800.  1886.  1972.]\n",
      "importing PTV Dij as dense matrix, converting to sparse...\n",
      "importing PTV Shell 50 mm Dij as dense matrix, converting to sparse...\n",
      "importing External Ring 20 mm Dij as sparse matrix\n",
      "importing PTV Shell 5 mm Dij as dense matrix, converting to sparse...\n",
      "importing PTV Shell 15 mm Dij as dense matrix, converting to sparse...\n",
      "importing PTV Shell 25 mm Dij as dense matrix, converting to sparse...\n",
      "importing Rectum Dij as dense matrix, converting to sparse...\n",
      "importing Anus Dij as dense matrix, converting to sparse...\n",
      "importing Hip (L) Dij as dense matrix, converting to sparse...\n",
      "importing Hip (R) Dij as dense matrix, converting to sparse...\n",
      "importing Bladder Dij as dense matrix, converting to sparse...\n",
      "importing Patient Dij as dense matrix, converting to sparse...\n"
     ]
    }
   ],
   "source": [
    "data = patient_data(input_dict)"
   ]
  },
  {
   "cell_type": "code",
   "execution_count": null,
   "metadata": {},
   "outputs": [],
   "source": [
    "for filename in os.listdir(cwd):\n",
    "    print filename\n",
    "    input_dict = {\n",
    "    'cwd': cwd,\n",
    "    'filename': filename,\n",
    "    'Rx': {'PTV': 79.56, 'PTV Vesicles': 72.2},\n",
    "    }\n",
    "    data = patient_data(input_dict)\n",
    "    print_structure_info(data)\n",
    "    print '-'*40"
   ]
  },
  {
   "cell_type": "code",
   "execution_count": 6,
   "metadata": {},
   "outputs": [
    {
     "name": "stdout",
     "output_type": "stream",
     "text": [
      "[u'BeamConfig', u'ElementIndex', u'Num', u'Resolution']\n"
     ]
    }
   ],
   "source": [
    "print data.f['patient/Beams'].keys()"
   ]
  },
  {
   "cell_type": "code",
   "execution_count": 8,
   "metadata": {
    "scrolled": false
   },
   "outputs": [
    {
     "name": "stdout",
     "output_type": "stream",
     "text": [
      "50\n"
     ]
    }
   ],
   "source": [
    "f = data.f\n",
    "b = f['patient/Beams/BeamConfig']\n",
    "field = np.asarray(f[b['Field'][0][0]])\n",
    "print field[20][40]"
   ]
  },
  {
   "cell_type": "code",
   "execution_count": null,
   "metadata": {},
   "outputs": [],
   "source": [
    "# Draw a heatmap with the numeric values in each cell\n",
    "for i in range(b['Field'].size):\n",
    "    print np.asarray(f[b['Field'][i][0]]).shape\n",
    "    plt.figure()\n",
    "    sns.heatmap(np.asarray(f[b['Field'][i][0]])[15:24,25:50], annot=True, linewidths=.5)"
   ]
  },
  {
   "cell_type": "code",
   "execution_count": null,
   "metadata": {},
   "outputs": [],
   "source": [
    "np.asarray(f[b['Field'][1][0]]).shape[0]"
   ]
  },
  {
   "cell_type": "code",
   "execution_count": null,
   "metadata": {},
   "outputs": [],
   "source": [
    "field = np.asarray(f[b['Field'][1][0]])\n",
    "print field\n",
    "print np.where(field==1)\n",
    "print int(np.where(field==1)[0])\n",
    "print field[17][37]\n",
    "\n",
    "print np.asarray(data.f['patient/Beams/ElementIndex'][0][0])"
   ]
  },
  {
   "cell_type": "code",
   "execution_count": null,
   "metadata": {},
   "outputs": [],
   "source": [
    "#Find min and max row positions of field for all control points\n",
    "min_row = np.asarray(f[b['Field'][0][0]]).shape[1]\n",
    "max_row = 0\n",
    "for cp in range(data.num_control_points):\n",
    "    field = np.asarray(f[b['Field'][cp][0]])\n",
    "    min_cp = int(np.where(field==1)[0])\n",
    "    max_cp = int(np.where(field==np.asarray(data.f['patient/Beams/ElementIndex'][0][cp]))[0])\n",
    "    if min_cp < min_row:\n",
    "        min_row = min_cp\n",
    "    if max_cp > max_row:\n",
    "        max_row = max_cp\n",
    "        \n",
    "    #return min_row, max_row+1\n",
    "max_row += 1      \n",
    "print 'Min row = {}'.format(min_row)\n",
    "print 'Max row = {}'.format(max_row)"
   ]
  },
  {
   "cell_type": "code",
   "execution_count": null,
   "metadata": {},
   "outputs": [],
   "source": [
    "#Find leaf positions for each control point field\n",
    "cp = 0\n",
    "field = np.asarray(f[b['Field'][cp][0]])\n",
    "left_leaf = [int(np.where(field==1)[0])]\n",
    "left_leaf_index = [1]\n",
    "print int(np.where(field==1)[1])\n",
    "\n",
    "print np.where(field[16][:]>0)[0][0]\n",
    "\n",
    "# print left_leaf\n",
    "# print left_leaf_index\n",
    "\n",
    "# print field[16][:]\n",
    "# print np.argmax(field[16][:])\n",
    "\n",
    "# print int(np.where(field==1)[1])\n",
    "# print field[16][37]\n",
    "# print int(np.where(field==np.argmax(field[16][:]))[1])\n",
    "# print np.argmax(field[16][:])\n",
    "# print field[16][43]\n",
    "\n",
    "# print int(np.where(field==np.argmax(field[16][:]))[1]) - int(np.where(field==1)[0])\n",
    "\n",
    "num_beamlets_in_row = [int(np.argmax(field[16][:])) - int(np.where(field==1)[1])+1]\n",
    "print num_beamlets_in_row \n",
    "\n",
    "# for row in range(min,max):\n",
    "#     left_leaf.append(int(np.where(field==1)[1]))\n",
    "#     left_leaf_index.append(int(np.where(field==1)[1]))"
   ]
  },
  {
   "cell_type": "code",
   "execution_count": null,
   "metadata": {},
   "outputs": [],
   "source": [
    "cp = 0\n",
    "field = np.asarray(f[b['Field'][cp][0]])\n",
    "left_leaf = []\n",
    "left_leaf_index = []\n",
    "num_beamlets_in_row = []\n",
    "row_array = range(min_row,max_row)\n",
    "# row = 16\n",
    "for row in row_array:\n",
    "    left_leaf.append(int(np.where(field[row][:]>0)[0][0]))\n",
    "    left_leaf_index.append(field[row][np.where(field[row][:]>0)[0][0]])\n",
    "    num_beamlets_in_row.append(int(np.argmax(field[row][:])) - int(np.where(field[row][:]>0)[0][0])+1)\n",
    "    \n",
    "    \n",
    "    \n",
    "print left_leaf\n",
    "print left_leaf_index\n",
    "print np.array(num_beamlets_in_row).sum()\n",
    "\n",
    "for r in range(len(left_leaf)):\n",
    "    print field[row_array[r]][left_leaf[r]:left_leaf[r]+num_beamlets_in_row[r]]"
   ]
  },
  {
   "cell_type": "code",
   "execution_count": null,
   "metadata": {
    "collapsed": true
   },
   "outputs": [],
   "source": [
    ""
   ]
  },
  {
   "cell_type": "code",
   "execution_count": 15,
   "metadata": {
    "scrolled": false
   },
   "outputs": [
    {
     "ename": "NameError",
     "evalue": "global name 'f' is not defined",
     "traceback": [
      "\u001b[0;31m---------------------------------------------------------------------------\u001b[0m",
      "\u001b[0;31mNameError\u001b[0m                                 Traceback (most recent call last)",
      "\u001b[0;32m<ipython-input-15-f379f1603602>\u001b[0m in \u001b[0;36m<module>\u001b[0;34m()\u001b[0m\n\u001b[1;32m      2\u001b[0m \u001b[0mfield\u001b[0m \u001b[0;34m=\u001b[0m \u001b[0mnp\u001b[0m\u001b[0;34m.\u001b[0m\u001b[0masarray\u001b[0m\u001b[0;34m(\u001b[0m\u001b[0mdata\u001b[0m\u001b[0;34m.\u001b[0m\u001b[0mf\u001b[0m\u001b[0;34m[\u001b[0m\u001b[0mb\u001b[0m\u001b[0;34m[\u001b[0m\u001b[0;34m'Field'\u001b[0m\u001b[0;34m]\u001b[0m\u001b[0;34m[\u001b[0m\u001b[0mcp\u001b[0m\u001b[0;34m]\u001b[0m\u001b[0;34m[\u001b[0m\u001b[0;36m0\u001b[0m\u001b[0;34m]\u001b[0m\u001b[0;34m]\u001b[0m\u001b[0;34m)\u001b[0m\u001b[0;34m\u001b[0m\u001b[0m\n\u001b[1;32m      3\u001b[0m \u001b[0mnum_beamlets\u001b[0m \u001b[0;34m=\u001b[0m \u001b[0mnp\u001b[0m\u001b[0;34m.\u001b[0m\u001b[0masarray\u001b[0m\u001b[0;34m(\u001b[0m\u001b[0mdata\u001b[0m\u001b[0;34m.\u001b[0m\u001b[0mf\u001b[0m\u001b[0;34m[\u001b[0m\u001b[0;34m'patient/Beams/ElementIndex'\u001b[0m\u001b[0;34m]\u001b[0m\u001b[0;34m[\u001b[0m\u001b[0;36m0\u001b[0m\u001b[0;34m]\u001b[0m\u001b[0;34m[\u001b[0m\u001b[0mcp\u001b[0m\u001b[0;34m]\u001b[0m\u001b[0;34m)\u001b[0m\u001b[0;34m\u001b[0m\u001b[0m\n\u001b[0;32m----> 4\u001b[0;31m \u001b[0mtest\u001b[0m \u001b[0;34m=\u001b[0m \u001b[0mcontrol_point\u001b[0m\u001b[0;34m(\u001b[0m\u001b[0mcp\u001b[0m\u001b[0;34m,\u001b[0m \u001b[0mfield\u001b[0m\u001b[0;34m,\u001b[0m \u001b[0;36m16\u001b[0m\u001b[0;34m,\u001b[0m \u001b[0;36m23\u001b[0m\u001b[0;34m,\u001b[0m \u001b[0;36m0\u001b[0m\u001b[0;34m,\u001b[0m \u001b[0mnum_beamlets\u001b[0m\u001b[0;34m)\u001b[0m\u001b[0;34m\u001b[0m\u001b[0m\n\u001b[0m",
      "\u001b[0;32m/Users/jtmargo/Desktop/Josh/Clemson University/Research/Treatment Plan/vmat_auto/pyrt/data/tools.py\u001b[0m in \u001b[0;36m__init__\u001b[0;34m(self, cp_number, field, min_row, max_row, initial_beamlet_index, number_beamlets)\u001b[0m\n\u001b[1;32m     60\u001b[0m         \u001b[0mself\u001b[0m\u001b[0;34m.\u001b[0m\u001b[0mfinal_beamlet_index\u001b[0m \u001b[0;34m=\u001b[0m \u001b[0minitial_beamlet_index\u001b[0m\u001b[0;34m+\u001b[0m\u001b[0mnumber_beamlets\u001b[0m\u001b[0;34m\u001b[0m\u001b[0m\n\u001b[1;32m     61\u001b[0m \u001b[0;34m\u001b[0m\u001b[0m\n\u001b[0;32m---> 62\u001b[0;31m         \u001b[0mself\u001b[0m\u001b[0;34m.\u001b[0m\u001b[0mbuild_leaf_metadata\u001b[0m\u001b[0;34m(\u001b[0m\u001b[0mfield\u001b[0m\u001b[0;34m)\u001b[0m\u001b[0;34m\u001b[0m\u001b[0m\n\u001b[0m\u001b[1;32m     63\u001b[0m \u001b[0;34m\u001b[0m\u001b[0m\n\u001b[1;32m     64\u001b[0m         \u001b[0;31m# check if beamlet row sum == number_beamlets\u001b[0m\u001b[0;34m\u001b[0m\u001b[0;34m\u001b[0m\u001b[0m\n",
      "\u001b[0;32m/Users/jtmargo/Desktop/Josh/Clemson University/Research/Treatment Plan/vmat_auto/pyrt/data/tools.py\u001b[0m in \u001b[0;36mbuild_leaf_metadata\u001b[0;34m(self, field)\u001b[0m\n\u001b[1;32m     67\u001b[0m \u001b[0;34m\u001b[0m\u001b[0m\n\u001b[1;32m     68\u001b[0m     \u001b[0;32mdef\u001b[0m \u001b[0mbuild_leaf_metadata\u001b[0m\u001b[0;34m(\u001b[0m\u001b[0mself\u001b[0m\u001b[0;34m,\u001b[0m\u001b[0mfield\u001b[0m\u001b[0;34m)\u001b[0m\u001b[0;34m:\u001b[0m\u001b[0;34m\u001b[0m\u001b[0m\n\u001b[0;32m---> 69\u001b[0;31m         \u001b[0mleft_leaf_position\u001b[0m \u001b[0;34m=\u001b[0m \u001b[0;34m[\u001b[0m\u001b[0;34m]\u001b[0m\u001b[0;34m\u001b[0m\u001b[0m\n\u001b[0m\u001b[1;32m     70\u001b[0m         \u001b[0mleft_leaf_index\u001b[0m \u001b[0;34m=\u001b[0m \u001b[0;34m[\u001b[0m\u001b[0;34m]\u001b[0m\u001b[0;34m\u001b[0m\u001b[0m\n\u001b[1;32m     71\u001b[0m         \u001b[0mnum_beamlets_in_row\u001b[0m \u001b[0;34m=\u001b[0m \u001b[0;34m[\u001b[0m\u001b[0;34m]\u001b[0m\u001b[0;34m\u001b[0m\u001b[0m\n",
      "\u001b[0;31mNameError\u001b[0m: global name 'f' is not defined"
     ],
     "output_type": "error"
    }
   ],
   "source": [
    "cp = 0\n",
    "field = np.asarray(data.f[b['Field'][cp][0]])\n",
    "num_beamlets = np.asarray(data.f['patient/Beams/ElementIndex'][0][cp])\n",
    "test = control_point(cp, field, 16, 23, 0, num_beamlets)"
   ]
  },
  {
   "cell_type": "code",
   "execution_count": null,
   "metadata": {
    "collapsed": true
   },
   "outputs": [],
   "source": [
    ""
   ]
  }
 ],
 "metadata": {
  "kernelspec": {
   "display_name": "Python 2",
   "language": "python",
   "name": "python2"
  },
  "language_info": {
   "codemirror_mode": {
    "name": "ipython",
    "version": 2.0
   },
   "file_extension": ".py",
   "mimetype": "text/x-python",
   "name": "python",
   "nbconvert_exporter": "python",
   "pygments_lexer": "ipython2",
   "version": "2.7.13"
  }
 },
 "nbformat": 4,
 "nbformat_minor": 0
}