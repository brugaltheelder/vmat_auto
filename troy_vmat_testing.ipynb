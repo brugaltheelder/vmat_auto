{
 "cells": [
  {
   "cell_type": "code",
   "execution_count": 1,
   "metadata": {
    "collapsed": true
   },
   "outputs": [],
   "source": [
    "# imports\n",
    "%matplotlib inline\n",
    "import seaborn as sns\n",
    "from pyrt.data.data_trots import *\n",
    "from pyrt.optimization.vmat import *\n",
    "from pyrt.tools import *\n"
   ]
  },
  {
   "cell_type": "code",
   "execution_count": 2,
   "metadata": {
    "collapsed": true
   },
   "outputs": [],
   "source": [
    "# Troy Inputs - Prostate\n",
    "# Find work directory\n",
    "# cwd = '/Users/troy/Dropbox/CAP Group/TROTS/Prostate_VMAT/'\n",
    "working_directory = 't-roy/'\n",
    "cwd = '/media/troy/DataDrive/Dropbox/CAP Group/TROTS/Prostate_VMAT/'\n",
    "\n",
    "# Load patient information\n",
    "filename = 'Prostate_VMAT_101.mat'\n",
    "\n",
    "\n",
    "'''\n",
    "TEST WHY 100 PTV DOESN'T WORK!!!\n",
    "'''\n",
    "\n",
    "back_proj_list_of_dicts = [\n",
    "   {'PTV':30.,'Bladder':15.,'default':0., 'threshold':0.},\n",
    "    {'PTV':30.,'Rectum':15.,'default':0., 'threshold':0.},\n",
    "#     {'PTV':5,'default':1, 'threshold':0.},\n",
    "    {'PTV':100.,'default':1., 'threshold':0.},\n",
    "    {'PTV':1.,'default':0., 'threshold':0.}\n",
    "]\n",
    "    \n",
    "# back_proj_list_of_dicts = [\n",
    "#     {'PTV':10,'default':1, 'threshold':0.}\n",
    "# ]\n",
    "\n",
    "\n",
    "vmat_model_params = {\n",
    "    'target_weights':{'PTV':10000., 'default':500.},\n",
    "    'oar_weights':{'Rectum':10., 'Bladder':10., 'default':1.},\n",
    "    'min_intensity':0,\n",
    "    'max_intensity':1000,\n",
    "    'cp_redundancy':1, \n",
    "    'back_projection_dicts':back_proj_list_of_dicts\n",
    "}\n",
    "\n",
    "\n",
    "input_dict = {\n",
    "    'cwd': cwd,\n",
    "    'figure_directory':working_directory,\n",
    "    'filename': filename,\n",
    "    'Rx': {'PTV': 79.56, 'PTV Vesicles': 72.2},\n",
    "    'model_params':vmat_model_params\n",
    "}\n",
    "\n"
   ]
  },
  {
   "cell_type": "code",
   "execution_count": null,
   "metadata": {
    "collapsed": true
   },
   "outputs": [],
   "source": [
    "# # Troy Inputs - H&N\n",
    "# # Find work directory\n",
    "# # cwd = '/Users/troy/Dropbox/CAP Group/TROTS/Prostate_VMAT/'\n",
    "# working_directory = 'outputs_troy/'\n",
    "# cwd = '/media/troy/DataDrive/Dropbox/CAP Group/TROTS/Prostate_VMAT/'\n",
    "\n",
    "# # Load patient information\n",
    "# filename = 'Prostate_VMAT_101.mat'\n",
    "\n",
    "# imrt_model_params = {\n",
    "#     'target_weights':{'PTV':1000., 'default':500.},\n",
    "#     'oar_weights':{'Rectum':10., 'Bladder':10., 'default':1.}\n",
    "# }\n",
    "\n",
    "\n",
    "# input_dict = {\n",
    "#     'cwd': cwd,\n",
    "#     'figure_directory':working_directory,\n",
    "#     'filename': filename,\n",
    "#     'Rx': {'PTV': 79.56, 'PTV Vesicles': 72.2},\n",
    "#     'model_params':imrt_model_params\n",
    "# }"
   ]
  },
  {
   "cell_type": "code",
   "execution_count": null,
   "metadata": {
    "collapsed": true
   },
   "outputs": [],
   "source": [
    "model = vmat_mip(input_dict)"
   ]
  },
  {
   "cell_type": "code",
   "execution_count": 3,
   "metadata": {},
   "outputs": [
    {
     "name": "stdout",
     "output_type": "stream",
     "text": [
      "---------------------\n",
      "|  Reading in data  |\n",
      "---------------------\n",
      "Building Structures\n",
      "importing PTV Dij as dense matrix, converting to sparse...\n",
      "importing PTV Shell 50 mm Dij as dense matrix, converting to sparse...\n",
      "importing External Ring 20 mm Dij as sparse matrix\n",
      "importing PTV Shell 5 mm Dij as dense matrix, converting to sparse...\n",
      "importing PTV Shell 15 mm Dij as dense matrix, converting to sparse...\n",
      "importing PTV Shell 25 mm Dij as dense matrix, converting to sparse...\n",
      "importing Rectum Dij as dense matrix, converting to sparse...\n",
      "importing Anus Dij as dense matrix, converting to sparse...\n",
      "importing Hip (L) Dij as dense matrix, converting to sparse...\n",
      "importing Hip (R) Dij as dense matrix, converting to sparse...\n",
      "importing Bladder Dij as dense matrix, converting to sparse...\n",
      "importing Patient Dij as dense matrix, converting to sparse...\n",
      "Building CP\n",
      "----------------------------\n",
      "|  Data reading completed  |\n",
      "----------------------------\n"
     ]
    }
   ],
   "source": [
    "model = conformal_arc(input_dict)"
   ]
  },
  {
   "cell_type": "code",
   "execution_count": null,
   "metadata": {},
   "outputs": [],
   "source": [
    "model.optimize(display=5,UB=1000.)\n"
   ]
  },
  {
   "cell_type": "code",
   "execution_count": null,
   "metadata": {},
   "outputs": [],
   "source": [
    "model.plot_DVH(run_tag='default',saveDVH=True)"
   ]
  },
  {
   "cell_type": "code",
   "execution_count": null,
   "metadata": {
    "collapsed": true
   },
   "outputs": [],
   "source": [
    "for a in model.apertures:\n",
    "    plot_aper(a,model.data,str(a.cp_number),save_bool=False,show_plot=True,tight_bool=True, buffer = 2)"
   ]
  },
  {
   "cell_type": "code",
   "execution_count": null,
   "metadata": {},
   "outputs": [],
   "source": [
    "model.aper_intensities\n"
   ]
  },
  {
   "cell_type": "code",
   "execution_count": null,
   "metadata": {
    "collapsed": true
   },
   "outputs": [],
   "source": [
    "for a in range(len(model.apertures)):\n",
    "\n",
    "    print model.apertures[a].intensity = m"
   ]
  },
  {
   "cell_type": "code",
   "execution_count": null,
   "metadata": {
    "collapsed": true,
    "scrolled": false
   },
   "outputs": [],
   "source": [
    "\n",
    "for c in range(model.data.num_control_points):\n",
    "    \n",
    "    new_aper = np.zeros(model.data.control_points[c].number_beamlets)\n",
    "    value, beamlets = pricing_problem_beam_aper(model.data.control_points[c],beamlet_usefulness[model.data.cumulative_beamlets_per_cp[model.data.control_points[c].org_cp_number]:model.data.cumulative_beamlets_per_cp[model.data.control_points[c].org_cp_number+1]])\n",
    "    if len(beamlets)>0:\n",
    "        new_aper[np.array(beamlets)] = 1.\n",
    "\n",
    "        plot_fluence_map(model.data, \n",
    "                             model.data.control_points[c],\n",
    "                             beamlet_usefulness[model.data.cumulative_beamlets_per_cp[model.data.control_points[c].org_cp_number]:model.data.cumulative_beamlets_per_cp[model.data.control_points[c].org_cp_number+1]],\n",
    "                            tight_bool=False,\n",
    "                            save_bool=False,\n",
    "                        show_plot=True)\n",
    "\n",
    "        plot_fluence_map(model.data, \n",
    "                         model.data.control_points[c],\n",
    "                         new_aper,\n",
    "                        tight_bool=False,\n",
    "                        save_bool=False,\n",
    "                        show_plot=True)\n",
    "    "
   ]
  },
  {
   "cell_type": "code",
   "execution_count": null,
   "metadata": {},
   "outputs": [],
   "source": [
    "for a in model.apertures:\n",
    "    plot_aper(a,model.data,str(a.cp_number),save_bool=False,show_plot=True,tight_bool=True, buffer = 2)"
   ]
  },
  {
   "cell_type": "code",
   "execution_count": null,
   "metadata": {
    "collapsed": true
   },
   "outputs": [],
   "source": [
    "\n",
    "\n",
    "\n"
   ]
  },
  {
   "cell_type": "code",
   "execution_count": null,
   "metadata": {},
   "outputs": [],
   "source": [
    "dose_weight_dict = {'PTV':100., 'default':1.}\n",
    "\n",
    "a = aper_gen_given_dose(dose_weight_dict,model.data, model.data.control_points[0])\n",
    "for s in model.data.structures:\n",
    "    print s.is_target\n",
    "plot_aper(a,model.data,'testaper',show_plot=True, save_bool=True,save_name='tester')\n",
    "\n",
    "\n",
    "\n",
    "\n",
    "\n"
   ]
  },
  {
   "cell_type": "code",
   "execution_count": 7,
   "metadata": {},
   "outputs": [
    {
     "name": "stdout",
     "output_type": "stream",
     "text": [
      "index  :  4\n",
      "num_beamlets  :  1972\n",
      "name  :  PTV\n",
      "Dij  :    (0, 0)\t6.974e-06\n",
      "  (0, 1)\t6.91257e-06\n",
      "  (0, 2)\t7.24581e-06\n",
      "  (0, 3)\t6.47621e-06\n",
      "  (0, 4)\t7.59358e-06\n",
      "  (0, 5)\t5.70377e-06\n",
      "  (0, 6)\t6.38256e-06\n",
      "  (0, 7)\t7.44963e-06\n",
      "  (0, 8)\t7.18203e-06\n",
      "  (0, 9)\t5.61889e-06\n",
      "  (0, 10)\t6.72685e-06\n",
      "  (0, 11)\t7.84318e-06\n",
      "  (0, 12)\t6.18718e-06\n",
      "  (0, 13)\t6.47188e-06\n",
      "  (0, 14)\t8.09938e-06\n",
      "  (0, 15)\t7.58084e-06\n",
      "  (0, 16)\t7.57426e-06\n",
      "  (0, 17)\t5.77946e-06\n",
      "  (0, 18)\t6.06533e-06\n",
      "  (0, 19)\t8.62548e-06\n",
      "  (0, 20)\t6.71815e-06\n",
      "  (0, 21)\t7.01317e-06\n",
      "  (0, 22)\t5.69882e-06\n",
      "  (0, 23)\t7.76794e-06\n",
      "  (0, 24)\t6.53823e-06\n",
      "  :\t:\n",
      "  (1971, 4885)\t0.000136643\n",
      "  (1971, 4886)\t4.53583e-05\n",
      "  (1971, 4887)\t4.69558e-05\n",
      "  (1971, 4888)\t7.61416e-05\n",
      "  (1971, 4889)\t2.23783e-05\n",
      "  (1971, 4890)\t0.000131043\n",
      "  (1971, 4891)\t2.26962e-05\n",
      "  (1971, 4892)\t7.88047e-05\n",
      "  (1971, 4893)\t4.55058e-05\n",
      "  (1971, 4894)\t8.41701e-05\n",
      "  (1971, 4895)\t3.24966e-05\n",
      "  (1971, 4896)\t0.00013362\n",
      "  (1971, 4897)\t0.000111896\n",
      "  (1971, 4898)\t3.28224e-05\n",
      "  (1971, 4899)\t4.09229e-05\n",
      "  (1971, 4900)\t0.000135318\n",
      "  (1971, 4901)\t8.25895e-05\n",
      "  (1971, 4902)\t4.51166e-05\n",
      "  (1971, 4903)\t0.000101024\n",
      "  (1971, 4904)\t8.38644e-05\n",
      "  (1971, 4905)\t4.24505e-05\n",
      "  (1971, 4906)\t8.13705e-05\n",
      "  (1971, 4907)\t0.000133812\n",
      "  (1971, 4908)\t6.8389e-05\n",
      "  (1971, 4909)\t4.54405e-05\n",
      "is_target  :  True\n",
      "rx  :  79.56\n",
      "num_vox  :  4910\n"
     ]
    }
   ],
   "source": []
  },
  {
   "cell_type": "code",
   "execution_count": null,
   "metadata": {
    "collapsed": true
   },
   "outputs": [],
   "source": [
    "\n",
    "\n",
    "\n",
    "\n",
    "\n",
    "\n",
    "\n",
    "\n",
    "\n",
    "\n",
    "\n",
    "\n",
    "\n",
    "\n",
    "\n",
    "\n",
    "\n",
    "\n",
    "\n",
    "\n",
    "\n",
    "\n",
    "\n",
    "\n",
    "\n",
    "\n",
    "\n",
    "\n",
    "\n",
    "\n",
    "\n",
    "\n",
    "\n",
    "\n",
    "\n",
    "\n",
    "\n",
    "\n",
    "\n",
    "\n"
   ]
  }
 ],
 "metadata": {
  "kernelspec": {
   "display_name": "Python 2",
   "language": "python",
   "name": "python2"
  },
  "language_info": {
   "codemirror_mode": {
    "name": "ipython",
    "version": 2
   },
   "file_extension": ".py",
   "mimetype": "text/x-python",
   "name": "python",
   "nbconvert_exporter": "python",
   "pygments_lexer": "ipython2",
   "version": "2.7.13"
  }
 },
 "nbformat": 4,
 "nbformat_minor": 2
}
