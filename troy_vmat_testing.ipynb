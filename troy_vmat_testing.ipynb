{
 "cells": [
  {
   "cell_type": "code",
   "execution_count": 1,
   "metadata": {
    "collapsed": true
   },
   "outputs": [],
   "source": [
    "# imports\n",
    "%matplotlib inline\n",
    "import seaborn as sns\n",
    "from pyrt.data.data_trots import *\n",
    "from pyrt.optimization.vmat import *\n",
    "from pyrt.tools import *\n"
   ]
  },
  {
   "cell_type": "code",
   "execution_count": 2,
   "metadata": {
    "collapsed": true
   },
   "outputs": [],
   "source": [
    "# Troy Inputs - Prostate\n",
    "# Find work directory\n",
    "# cwd = '/Users/troy/Dropbox/CAP Group/TROTS/Prostate_VMAT/'\n",
    "working_directory = 't-roy/'\n",
    "cwd = '/media/troy/DataDrive/Dropbox/CAP Group/TROTS/Prostate_VMAT/'\n",
    "\n",
    "# Load patient information\n",
    "filename = 'Prostate_VMAT_101.mat'\n",
    "\n",
    "imrt_model_params = {\n",
    "    'target_weights':{'PTV':1000., 'default':500.},\n",
    "    'oar_weights':{'Rectum':10., 'Bladder':10., 'default':1.},\n",
    "    'min_intensity':0,\n",
    "    'max_intensity':1000,\n",
    "    'cp_redundancy':2\n",
    "}\n",
    "\n",
    "\n",
    "input_dict = {\n",
    "    'cwd': cwd,\n",
    "    'figure_directory':working_directory,\n",
    "    'filename': filename,\n",
    "    'Rx': {'PTV': 79.56, 'PTV Vesicles': 72.2},\n",
    "    'model_params':imrt_model_params\n",
    "}\n",
    "\n"
   ]
  },
  {
   "cell_type": "code",
   "execution_count": null,
   "metadata": {
    "collapsed": true
   },
   "outputs": [],
   "source": [
    "# # Troy Inputs - H&N\n",
    "# # Find work directory\n",
    "# # cwd = '/Users/troy/Dropbox/CAP Group/TROTS/Prostate_VMAT/'\n",
    "# working_directory = 'outputs_troy/'\n",
    "# cwd = '/media/troy/DataDrive/Dropbox/CAP Group/TROTS/Prostate_VMAT/'\n",
    "\n",
    "# # Load patient information\n",
    "# filename = 'Prostate_VMAT_101.mat'\n",
    "\n",
    "# imrt_model_params = {\n",
    "#     'target_weights':{'PTV':1000., 'default':500.},\n",
    "#     'oar_weights':{'Rectum':10., 'Bladder':10., 'default':1.}\n",
    "# }\n",
    "\n",
    "\n",
    "# input_dict = {\n",
    "#     'cwd': cwd,\n",
    "#     'figure_directory':working_directory,\n",
    "#     'filename': filename,\n",
    "#     'Rx': {'PTV': 79.56, 'PTV Vesicles': 72.2},\n",
    "#     'model_params':imrt_model_params\n",
    "# }"
   ]
  },
  {
   "cell_type": "code",
   "execution_count": null,
   "metadata": {},
   "outputs": [],
   "source": [
    "model = vmat_mip(input_dict)"
   ]
  },
  {
   "cell_type": "code",
   "execution_count": 3,
   "metadata": {},
   "outputs": [
    {
     "name": "stdout",
     "output_type": "stream",
     "text": [
      "---------------------\n",
      "|  Reading in data  |\n",
      "---------------------\n",
      "Building Structures\n",
      "importing PTV Dij as dense matrix, converting to sparse...\n",
      "importing PTV Shell 50 mm Dij as dense matrix, converting to sparse...\n",
      "importing External Ring 20 mm Dij as sparse matrix\n",
      "importing PTV Shell 5 mm Dij as dense matrix, converting to sparse...\n",
      "importing PTV Shell 15 mm Dij as dense matrix, converting to sparse...\n",
      "importing PTV Shell 25 mm Dij as dense matrix, converting to sparse...\n",
      "importing Rectum Dij as dense matrix, converting to sparse...\n",
      "importing Anus Dij as dense matrix, converting to sparse...\n",
      "importing Hip (L) Dij as dense matrix, converting to sparse...\n",
      "importing Hip (R) Dij as dense matrix, converting to sparse...\n",
      "importing Bladder Dij as dense matrix, converting to sparse...\n",
      "importing Patient Dij as dense matrix, converting to sparse...\n",
      "Building CP\n",
      "----------------------------\n",
      "|  Data reading completed  |\n",
      "----------------------------\n"
     ]
    }
   ],
   "source": [
    "model = conformal_arc(input_dict)"
   ]
  },
  {
   "cell_type": "code",
   "execution_count": null,
   "metadata": {},
   "outputs": [],
   "source": [
    "a,b = model.calc_obj_grad(np.ones(model.num_apers))\n",
    "print model.num_apers\n",
    "print a\n",
    "print type(b)"
   ]
  },
  {
   "cell_type": "code",
   "execution_count": null,
   "metadata": {},
   "outputs": [],
   "source": [
    "model.optimize(display=5,UB=1000.)\n"
   ]
  },
  {
   "cell_type": "code",
   "execution_count": null,
   "metadata": {},
   "outputs": [],
   "source": [
    "model.plot_DVH(run_tag='default',saveDVH=True)"
   ]
  },
  {
   "cell_type": "code",
   "execution_count": null,
   "metadata": {},
   "outputs": [],
   "source": [
    "model.aper_intensities"
   ]
  },
  {
   "cell_type": "code",
   "execution_count": null,
   "metadata": {},
   "outputs": [],
   "source": [
    "model.calc_dose_from_variables(x=np.ones(model.num_apers))\n",
    "model.save_current_dose(run_tag='ones')\n",
    "model.plot_DVH(run_tag='ones',saveDVH=True)\n",
    "# model.calc_dose_from_variables(x=2*np.ones(model.num_apers))\n",
    "# model.save_current_dose(run_tag='twos')\n",
    "# model.plot_DVH(run_tag='twos',saveDVH=True)"
   ]
  },
  {
   "cell_type": "code",
   "execution_count": null,
   "metadata": {},
   "outputs": [],
   "source": [
    "s = 1\n",
    "beamlet_members = [1,2,3,4]\n",
    "Dkj_per_structure = [np.zeros(s_t.num_vox) for s_t in model.data.structures]\n",
    "Dkj_per_structure[s] = np.asarray(model.data.structures[s].Dij[np.array(beamlet_members)].sum(axis=0)).flatten()\n",
    "print Dkj_per_structure[1].shape"
   ]
  },
  {
   "cell_type": "code",
   "execution_count": null,
   "metadata": {
    "collapsed": true
   },
   "outputs": [],
   "source": [
    "cp0 = model.data.control_points[0]\n",
    "assert(isinstance(cp0,control_point))\n",
    "for r in range(cp0.num_rows):\n",
    "    print cp0.field[cp0.min_row+r][cp0.left_leaf_position[r]:cp0.left_leaf_position[r]+cp0.num_beamlets_in_row[r]]"
   ]
  },
  {
   "cell_type": "code",
   "execution_count": null,
   "metadata": {
    "collapsed": true
   },
   "outputs": [],
   "source": [
    "model.data.structures[0].Dij[5,:].todense()\n",
    "indices = np.array([1,2])\n",
    "a = np.asarray(model.data.structures[0].Dij[indices].sum(axis=0))\n",
    "\n",
    "b = (model.data.structures[0].Dij[1,:] + model.data.structures[0].Dij[2,:]).transpose().todense()\n",
    "\n",
    "print a.flatten()\n",
    "print b.flatten()\n",
    "a[0]"
   ]
  },
  {
   "cell_type": "code",
   "execution_count": null,
   "metadata": {
    "collapsed": true
   },
   "outputs": [],
   "source": [
    "\n",
    "\n",
    "a = aperture(model.data, model.data.control_points[0],set_open_aper=True)\n",
    "\n",
    "assert(isinstance(a,aperture))\n",
    "\n",
    "print a.left_leaf_position\n",
    "print a.right_leaf_position\n",
    "print a.intensity\n",
    "for s in range(len(model.data.structures)) :\n",
    "    print a.Dkj_per_structure[s].shape, a.Dkj_per_structure[s].max()\n"
   ]
  },
  {
   "cell_type": "code",
   "execution_count": 4,
   "metadata": {},
   "outputs": [
    {
     "name": "stdout",
     "output_type": "stream",
     "text": [
      "[ 0.00031245  0.00123091  0.00194394 ..., -0.00119236 -0.00093039\n",
      " -0.00056994]\n"
     ]
    },
    {
     "data": {
      "image/png": "[encoded data removed]",
      "text/plain": [
       "<matplotlib.figure.Figure at 0x7fd4dc1d9310>"
      ]
     },
     "metadata": {},
     "output_type": "display_data"
    }
   ],
   "source": [
    "target_mask = [np.zeros(model.data.structures[s].num_vox) for s in range(len(model.data.structures))]\n",
    "for s in range(len(model.data.structures)):\n",
    "    if model.data.structures[s].is_target:\n",
    "        target_mask[s] = -30.*np.ones(model.data.structures[s].num_vox)/model.data.structures[s].num_vox\n",
    "    else:\n",
    "        if model.data.structures[s].name=='Bladder':\n",
    "            factor = 0.\n",
    "        elif model.data.structures[s].name=='Rectum':\n",
    "            factor = 30.\n",
    "        else:\n",
    "            factor = 0.\n",
    "            \n",
    "        target_mask[s] = factor*np.ones(model.data.structures[s].num_vox)/model.data.structures[s].num_vox\n",
    "        \n",
    "beamlet_usefulness = np.zeros(model.data.num_beamlets)\n",
    "\n",
    "for s in range(len(model.data.structures)):\n",
    "    beamlet_usefulness+= model.data.structures[s].Dij.dot(target_mask[s])\n",
    "    \n",
    "    \n",
    "beamlet_usefulness\n",
    "print beamlet_usefulness\n",
    "for c in range(1):#range(model.data.num_control_points):\n",
    "    plot_fluence_map(model.data, \n",
    "                         model.data.control_points[c],\n",
    "                         beamlet_usefulness[model.data.cumulative_beamlets_per_cp[c]:model.data.cumulative_beamlets_per_cp[c+1]],\n",
    "                        tight_bool=True,\n",
    "                        save_bool=True,\n",
    "                    show_plot=True)\n",
    "        \n",
    "\n"
   ]
  },
  {
   "cell_type": "code",
   "execution_count": null,
   "metadata": {},
   "outputs": [],
   "source": []
  },
  {
   "cell_type": "code",
   "execution_count": null,
   "metadata": {},
   "outputs": [],
   "source": [
    "print model.data.num_control_points"
   ]
  },
  {
   "cell_type": "code",
   "execution_count": 8,
   "metadata": {},
   "outputs": [
    {
     "data": {
      "image/png": "[encoded data removed]",
      "text/plain": [
       "<matplotlib.figure.Figure at 0x7fd491010990>"
      ]
     },
     "metadata": {},
     "output_type": "display_data"
    },
    {
     "data": {
      "image/png": "[encoded data removed]",
      "text/plain": [
       "<matplotlib.figure.Figure at 0x7fd4911bae50>"
      ]
     },
     "metadata": {},
     "output_type": "display_data"
    },
    {
     "name": "stdout",
     "output_type": "stream",
     "text": [
      "17\n",
      "[35, 22, 23, 23, 24, 24, 23]\n",
      "[22, 22, 23, 23, 24, 24, 23]\n",
      "18\n",
      "[35, 34, 23, 23, 24, 24, 23]\n",
      "[45, 22, 23, 23, 24, 24, 23]\n",
      "19\n",
      "[35, 34, 34, 23, 24, 24, 23]\n",
      "[45, 46, 23, 23, 24, 24, 23]\n",
      "20\n",
      "[35, 34, 34, 33, 24, 24, 23]\n",
      "[45, 46, 47, 23, 24, 24, 23]\n",
      "21\n",
      "[35, 34, 34, 33, 33, 24, 23]\n",
      "[45, 46, 47, 48, 24, 24, 23]\n",
      "[37, 35, 34, 34, 33, 33, 34]\n",
      "[7, 10, 12, 13, 15, 15, 13]\n",
      "[35, 34, 34, 33, 33, 24, 23]\n",
      "[45, 46, 47, 48, 48, 24, 23]\n",
      "1.0\n",
      "0\n"
     ]
    },
    {
     "data": {
      "image/png": "[encoded data removed]",
      "text/plain": [
       "<matplotlib.figure.Figure at 0x7fd4911cc810>"
      ]
     },
     "metadata": {},
     "output_type": "display_data"
    }
   ],
   "source": [
    "c = 0\n",
    "new_aper = np.zeros(model.data.control_points[c].number_beamlets)\n",
    "value, beamlets = pricing_problem_beam_aper(model.data.control_points[c],beamlet_usefulness[model.data.cumulative_beamlets_per_cp[model.data.control_points[c].org_cp_number]:model.data.cumulative_beamlets_per_cp[model.data.control_points[c].org_cp_number+1]])\n",
    "if len(beamlets)>0:\n",
    "    new_aper[np.array(beamlets)] = 1.\n",
    "\n",
    "    plot_fluence_map(model.data, \n",
    "                         model.data.control_points[c],\n",
    "                         beamlet_usefulness[model.data.cumulative_beamlets_per_cp[model.data.control_points[c].org_cp_number]:model.data.cumulative_beamlets_per_cp[model.data.control_points[c].org_cp_number+1]],\n",
    "                        tight_bool=False,\n",
    "                        save_bool=False,\n",
    "                    show_plot=True)\n",
    "\n",
    "    plot_fluence_map(model.data, \n",
    "                     model.data.control_points[c],\n",
    "                     new_aper,\n",
    "                    tight_bool=False,\n",
    "                    save_bool=False,\n",
    "                    show_plot=True)\n",
    "a = aperture(model.data,model.data.control_points[c],beamlet_override=beamlets)\n",
    "# print model.data.control_points[c].field_position\n",
    "print model.data.control_points[c].left_leaf_position\n",
    "print model.data.control_points[c].width_per_row\n",
    "\n",
    "print a.left_leaf_position\n",
    "print a.right_leaf_position\n",
    "print a.intensity\n",
    "print a.cp_number\n",
    "plot_aper(a,model.data,'testaper',show_plot=True)\n",
    "\n"
   ]
  },
  {
   "cell_type": "code",
   "execution_count": null,
   "metadata": {
    "scrolled": false
   },
   "outputs": [],
   "source": [
    "\n",
    "for c in range(model.data.num_control_points):\n",
    "    \n",
    "    new_aper = np.zeros(model.data.control_points[c].number_beamlets)\n",
    "    value, beamlets = pricing_problem_beam_aper(model.data.control_points[c],beamlet_usefulness[model.data.cumulative_beamlets_per_cp[model.data.control_points[c].org_cp_number]:model.data.cumulative_beamlets_per_cp[model.data.control_points[c].org_cp_number+1]])\n",
    "    if len(beamlets)>0:\n",
    "        new_aper[np.array(beamlets)] = 1.\n",
    "\n",
    "        plot_fluence_map(model.data, \n",
    "                             model.data.control_points[c],\n",
    "                             beamlet_usefulness[model.data.cumulative_beamlets_per_cp[model.data.control_points[c].org_cp_number]:model.data.cumulative_beamlets_per_cp[model.data.control_points[c].org_cp_number+1]],\n",
    "                            tight_bool=False,\n",
    "                            save_bool=False,\n",
    "                        show_plot=True)\n",
    "\n",
    "        plot_fluence_map(model.data, \n",
    "                         model.data.control_points[c],\n",
    "                         new_aper,\n",
    "                        tight_bool=False,\n",
    "                        save_bool=False,\n",
    "                        show_plot=True)\n",
    "    "
   ]
  },
  {
   "cell_type": "code",
   "execution_count": null,
   "metadata": {},
   "outputs": [],
   "source": [
    "for a in model.apertures:\n",
    "    plot_aper(a,model.data,str(a.cp_number),save_bool=False,show_plot=True,tight_bool=True, buffer = 2)"
   ]
  },
  {
   "cell_type": "code",
   "execution_count": null,
   "metadata": {},
   "outputs": [],
   "source": [
    "\n",
    "\n",
    "\n"
   ]
  },
  {
   "cell_type": "code",
   "execution_count": null,
   "metadata": {
    "collapsed": true
   },
   "outputs": [],
   "source": [
    "\n",
    "\n",
    "\n",
    "\n",
    "\n",
    "\n",
    "\n",
    "\n",
    "\n",
    "\n",
    "\n",
    "\n",
    "\n",
    "\n",
    "\n",
    "\n",
    "\n",
    "\n",
    "\n",
    "\n",
    "\n",
    "\n",
    "\n",
    "\n",
    "\n",
    "\n",
    "\n",
    "\n",
    "\n",
    "\n",
    "\n",
    "\n",
    "\n",
    "\n",
    "\n",
    "\n"
   ]
  }
 ],
 "metadata": {
  "kernelspec": {
   "display_name": "Python 2",
   "language": "python",
   "name": "python2"
  },
  "language_info": {
   "codemirror_mode": {
    "name": "ipython",
    "version": 2
   },
   "file_extension": ".py",
   "mimetype": "text/x-python",
   "name": "python",
   "nbconvert_exporter": "python",
   "pygments_lexer": "ipython2",
   "version": "2.7.13"
  }
 },
 "nbformat": 4,
 "nbformat_minor": 2
}
