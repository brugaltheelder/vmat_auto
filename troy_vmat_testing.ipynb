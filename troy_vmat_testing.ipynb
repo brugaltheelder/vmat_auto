{
 "cells": [
  {
   "cell_type": "code",
   "execution_count": null,
   "metadata": {
    "collapsed": true
   },
   "outputs": [],
   "source": [
    "# imports\n",
    "%matplotlib inline\n",
    "import seaborn as sns\n",
    "from pyrt.data.data_trots import *\n",
    "from pyrt.optimization.vmat import *\n",
    "from pyrt.tools import *\n"
   ]
  },
  {
   "cell_type": "code",
   "execution_count": 2,
   "metadata": {
    "collapsed": true
   },
   "outputs": [],
   "source": [
    "# Troy Inputs - Prostate\n",
    "# Find work directory\n",
    "# cwd = '/Users/troy/Dropbox/CAP Group/TROTS/Prostate_VMAT/'\n",
    "working_directory = 't-roy/'\n",
    "cwd = '/media/troy/DataDrive/Dropbox/CAP Group/TROTS/Prostate_VMAT/'\n",
    "\n",
    "# Load patient information\n",
    "filename = 'Prostate_VMAT_101.mat'\n",
    "\n",
    "imrt_model_params = {\n",
    "    'target_weights':{'PTV':1000., 'default':500.},\n",
    "    'oar_weights':{'Rectum':10., 'Bladder':10., 'default':1.},\n",
    "    'min_intensity':0,\n",
    "    'max_intensity':1000\n",
    "}\n",
    "\n",
    "\n",
    "input_dict = {\n",
    "    'cwd': cwd,\n",
    "    'figure_directory':working_directory,\n",
    "    'filename': filename,\n",
    "    'Rx': {'PTV': 79.56, 'PTV Vesicles': 72.2},\n",
    "    'model_params':imrt_model_params\n",
    "}\n",
    "\n"
   ]
  },
  {
   "cell_type": "code",
   "execution_count": null,
   "metadata": {
    "collapsed": true
   },
   "outputs": [],
   "source": [
    "# # Troy Inputs - H&N\n",
    "# # Find work directory\n",
    "# # cwd = '/Users/troy/Dropbox/CAP Group/TROTS/Prostate_VMAT/'\n",
    "# working_directory = 'outputs_troy/'\n",
    "# cwd = '/media/troy/DataDrive/Dropbox/CAP Group/TROTS/Prostate_VMAT/'\n",
    "\n",
    "# # Load patient information\n",
    "# filename = 'Prostate_VMAT_101.mat'\n",
    "\n",
    "# imrt_model_params = {\n",
    "#     'target_weights':{'PTV':1000., 'default':500.},\n",
    "#     'oar_weights':{'Rectum':10., 'Bladder':10., 'default':1.}\n",
    "# }\n",
    "\n",
    "\n",
    "# input_dict = {\n",
    "#     'cwd': cwd,\n",
    "#     'figure_directory':working_directory,\n",
    "#     'filename': filename,\n",
    "#     'Rx': {'PTV': 79.56, 'PTV Vesicles': 72.2},\n",
    "#     'model_params':imrt_model_params\n",
    "# }"
   ]
  },
  {
   "cell_type": "code",
   "execution_count": null,
   "metadata": {},
   "outputs": [],
   "source": [
    "model = vmat_mip(input_dict)"
   ]
  },
  {
   "cell_type": "code",
   "execution_count": 3,
   "metadata": {},
   "outputs": [
    {
     "name": "stdout",
     "output_type": "stream",
     "text": [
      "---------------------\n",
      "|  Reading in data  |\n",
      "---------------------\n",
      "Building Structures\n",
      "importing PTV Dij as dense matrix, converting to sparse...\n",
      "importing PTV Shell 50 mm Dij as dense matrix, converting to sparse...\n",
      "importing External Ring 20 mm Dij as sparse matrix\n",
      "importing PTV Shell 5 mm Dij as dense matrix, converting to sparse...\n",
      "importing PTV Shell 15 mm Dij as dense matrix, converting to sparse...\n",
      "importing PTV Shell 25 mm Dij as dense matrix, converting to sparse...\n",
      "importing Rectum Dij as dense matrix, converting to sparse...\n",
      "importing Anus Dij as dense matrix, converting to sparse...\n",
      "importing Hip (L) Dij as dense matrix, converting to sparse...\n",
      "importing Hip (R) Dij as dense matrix, converting to sparse...\n",
      "importing Bladder Dij as dense matrix, converting to sparse...\n",
      "importing Patient Dij as dense matrix, converting to sparse...\n",
      "Building CP\n",
      "----------------------------\n",
      "|  Data reading completed  |\n",
      "----------------------------\n"
     ]
    }
   ],
   "source": [
    "model = conformal_arc(input_dict)"
   ]
  },
  {
   "cell_type": "code",
   "execution_count": null,
   "metadata": {},
   "outputs": [],
   "source": [
    "a,b = model.calc_obj_grad(np.ones(model.num_apers))\n",
    "print model.num_apers\n",
    "print a\n",
    "print type(b)"
   ]
  },
  {
   "cell_type": "code",
   "execution_count": null,
   "metadata": {},
   "outputs": [],
   "source": [
    "model.optimize(display=5,UB=1000.)\n"
   ]
  },
  {
   "cell_type": "code",
   "execution_count": null,
   "metadata": {},
   "outputs": [],
   "source": [
    "model.plot_DVH(run_tag='default',saveDVH=True)"
   ]
  },
  {
   "cell_type": "code",
   "execution_count": null,
   "metadata": {},
   "outputs": [],
   "source": [
    "model.aper_intensities"
   ]
  },
  {
   "cell_type": "code",
   "execution_count": null,
   "metadata": {},
   "outputs": [],
   "source": [
    "model.calc_dose_from_variables(x=np.ones(model.num_apers))\n",
    "model.save_current_dose(run_tag='ones')\n",
    "model.plot_DVH(run_tag='ones',saveDVH=True)\n",
    "# model.calc_dose_from_variables(x=2*np.ones(model.num_apers))\n",
    "# model.save_current_dose(run_tag='twos')\n",
    "# model.plot_DVH(run_tag='twos',saveDVH=True)"
   ]
  },
  {
   "cell_type": "code",
   "execution_count": null,
   "metadata": {},
   "outputs": [],
   "source": [
    "s = 1\n",
    "beamlet_members = [1,2,3,4]\n",
    "Dkj_per_structure = [np.zeros(s_t.num_vox) for s_t in model.data.structures]\n",
    "Dkj_per_structure[s] = np.asarray(model.data.structures[s].Dij[np.array(beamlet_members)].sum(axis=0)).flatten()\n",
    "print Dkj_per_structure[1].shape"
   ]
  },
  {
   "cell_type": "code",
   "execution_count": null,
   "metadata": {
    "collapsed": true
   },
   "outputs": [],
   "source": [
    "cp0 = model.data.control_points[0]\n",
    "assert(isinstance(cp0,control_point))\n",
    "for r in range(cp0.num_rows):\n",
    "    print cp0.field[cp0.min_row+r][cp0.left_leaf_position[r]:cp0.left_leaf_position[r]+cp0.num_beamlets_in_row[r]]"
   ]
  },
  {
   "cell_type": "code",
   "execution_count": null,
   "metadata": {
    "collapsed": true
   },
   "outputs": [],
   "source": [
    "model.data.structures[0].Dij[5,:].todense()\n",
    "indices = np.array([1,2])\n",
    "a = np.asarray(model.data.structures[0].Dij[indices].sum(axis=0))\n",
    "\n",
    "b = (model.data.structures[0].Dij[1,:] + model.data.structures[0].Dij[2,:]).transpose().todense()\n",
    "\n",
    "print a.flatten()\n",
    "print b.flatten()\n",
    "a[0]"
   ]
  },
  {
   "cell_type": "code",
   "execution_count": null,
   "metadata": {
    "collapsed": true
   },
   "outputs": [],
   "source": [
    "\n",
    "\n",
    "a = aperture(model.data, model.data.control_points[0],set_open_aper=True)\n",
    "\n",
    "assert(isinstance(a,aperture))\n",
    "\n",
    "print a.left_leaf_position\n",
    "print a.right_leaf_position\n",
    "print a.intensity\n",
    "for s in range(len(model.data.structures)) :\n",
    "    print a.Dkj_per_structure[s].shape, a.Dkj_per_structure[s].max()\n"
   ]
  },
  {
   "cell_type": "code",
   "execution_count": 4,
   "metadata": {},
   "outputs": [],
   "source": [
    "target_mask = [np.zeros(model.data.structures[s].num_vox) for s in range(len(model.data.structures))]\n",
    "for s in range(len(model.data.structures)):\n",
    "    if model.data.structures[s].is_target:\n",
    "        target_mask[s] = 10.*np.ones(model.data.structures[s].num_vox)/model.data.structures[s].num_vox\n",
    "    else:\n",
    "        target_mask[s] = -1.*np.ones(model.data.structures[s].num_vox)/model.data.structures[s].num_vox\n",
    "        \n",
    "beamlet_usefulness = np.zeros(model.data.num_beamlets)\n",
    "\n",
    "for s in range(len(model.data.structures)):\n",
    "    beamlet_usefulness+= model.data.structures[s].Dij.dot(target_mask[s])\n",
    "    \n",
    "    \n",
    "beamlet_usefulness\n",
    "for c in range(1):#range(model.data.num_control_points):\n",
    "    plot_fluence_map(model.data, \n",
    "                         model.data.control_points[c],\n",
    "                         beamlet_usefulness[model.data.cumulative_beamlets_per_cp[c]:model.data.cumulative_beamlets_per_cp[c+1]],\n",
    "                        tight_bool=True,\n",
    "                        save_bool=True)\n",
    "        \n",
    "\n"
   ]
  },
  {
   "cell_type": "code",
   "execution_count": null,
   "metadata": {
    "collapsed": true
   },
   "outputs": [],
   "source": []
  },
  {
   "cell_type": "code",
   "execution_count": null,
   "metadata": {
    "collapsed": true
   },
   "outputs": [],
   "source": [
    "def plot_aper(aper, data, aper_number, tight_bool=False,save_bool=False, save_name='aper_', buffer=1):\n",
    "    relevant_beamlets = np.array(aper.beamlet_members[:]) - data.control_points[aper.cp_number].initial_beamlet_index\n",
    "    fluence_map = np.zeros(data.control_points[aper.cp_number].field.shape)\n",
    "    for r in relevant_beamlets:\n",
    "        x,y = tuple(data.control_points[aper.cp_number].field_position[r,:])\n",
    "        fluence_map[x,y] = 1.\n",
    "    plt.figure()\n",
    "    \n",
    "    if tight_bool:\n",
    "        rmin,rmax,cmin,cmax = bounding_box(fluence_map, buffer=buffer)\n",
    "        sns.heatmap(fluence_map[rmin:rmax,cmin:cmax])\n",
    "    else:        \n",
    "        sns.heatmap(fluence_map)\n",
    "    \n",
    "    if save_bool:\n",
    "        if not os.path.exists(data.input_dict['cwd'] + data.input_dict['figure_directory']):\n",
    "            os.makedirs(data.input_dict['cwd'] + data.input_dict['figure_directory'])\n",
    "    \n",
    "        plt.savefig(data.input_dict['cwd'] + data.input_dict['figure_directory'] + save_name + '_' + str(aper_number) + '.png',\n",
    "                    bbox_inches='tight')\n",
    "    \n",
    "    "
   ]
  },
  {
   "cell_type": "code",
   "execution_count": null,
   "metadata": {},
   "outputs": [],
   "source": [
    "for a in model.apertures:\n",
    "    plot_aper(a,model.data,a.cp_number,save_bool=True,tight_bool=True, buffer = 2)"
   ]
  },
  {
   "cell_type": "code",
   "execution_count": null,
   "metadata": {},
   "outputs": [],
   "source": [
    "\n",
    "\n",
    "\n"
   ]
  },
  {
   "cell_type": "code",
   "execution_count": null,
   "metadata": {
    "collapsed": true
   },
   "outputs": [],
   "source": [
    "\n",
    "\n",
    "\n",
    "\n",
    "\n",
    "\n",
    "\n",
    "\n",
    "\n",
    "\n",
    "\n",
    "\n",
    "\n",
    "\n",
    "\n",
    "\n",
    "\n",
    "\n",
    "\n",
    "\n",
    "\n",
    "\n",
    "\n",
    "\n",
    "\n",
    "\n",
    "\n",
    "\n",
    "\n",
    "\n",
    "\n",
    "\n",
    "\n",
    "\n",
    "\n",
    "\n"
   ]
  }
 ],
 "metadata": {
  "kernelspec": {
   "display_name": "Python 2",
   "language": "python",
   "name": "python2"
  },
  "language_info": {
   "codemirror_mode": {
    "name": "ipython",
    "version": 2
   },
   "file_extension": ".py",
   "mimetype": "text/x-python",
   "name": "python",
   "nbconvert_exporter": "python",
   "pygments_lexer": "ipython2",
   "version": "2.7.13"
  }
 },
 "nbformat": 4,
 "nbformat_minor": 2
}
